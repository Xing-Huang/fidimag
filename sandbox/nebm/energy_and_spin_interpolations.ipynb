{
 "cells": [
  {
   "cell_type": "markdown",
   "metadata": {},
   "source": [
    "# Interpolations"
   ]
  },
  {
   "cell_type": "markdown",
   "metadata": {},
   "source": [
    "Simulate two macro-spins with anisotropy, where the MEP is given by an asynchronous rotation of the spins"
   ]
  },
  {
   "cell_type": "code",
   "execution_count": null,
   "metadata": {},
   "outputs": [],
   "source": [
    "# FIDIMAG:\n",
    "from fidimag.micro import Sim\n",
    "from fidimag.common import CuboidMesh\n",
    "from fidimag.micro import UniformExchange, UniaxialAnisotropy\n",
    "from fidimag.common.nebm_spherical import NEBM_Spherical\n",
    "from fidimag.common.nebm_geodesic import NEBM_Geodesic\n",
    "import fidimag.common.nebm_geodesic\n",
    "\n",
    "import numpy as np\n",
    "import matplotlib.pyplot as plt"
   ]
  },
  {
   "cell_type": "code",
   "execution_count": 373,
   "metadata": {
    "scrolled": true
   },
   "outputs": [
    {
     "name": "stderr",
     "output_type": "stream",
     "text": [
      "DEBUG:fidimag:Relaxation parameters: stopping_dYdt=0.0001, time_step=1e-06 s,  max_iterations=2000.\n",
      "DEBUG:fidimag:2019-02-19 15:11:08 step: 1, step_size: 1e-06, max dYdt: 2.36e+05 max|G|: 9.9e+04 max|gradE|: 2.09e+05 and max|F_k|: 11.7\n",
      "DEBUG:fidimag:2019-02-19 15:11:08 step: 2, step_size: 1e-06, max dYdt: 2.02e+04 max|G|: 6.78e+04 max|gradE|: 2.09e+05 and max|F_k|: 19.2\n",
      "DEBUG:fidimag:2019-02-19 15:11:08 step: 3, step_size: 1e-06, max dYdt: 1.37e+04 max|G|: 4.38e+04 max|gradE|: 2.09e+05 and max|F_k|: 24.9\n",
      "DEBUG:fidimag:2019-02-19 15:11:08 step: 4, step_size: 1e-06, max dYdt: 9.1e+03 max|G|: 3.03e+04 max|gradE|: 2.09e+05 and max|F_k|: 28.1\n",
      "DEBUG:fidimag:2019-02-19 15:11:08 step: 5, step_size: 1e-06, max dYdt: 6.02e+03 max|G|: 1.99e+04 max|gradE|: 2.09e+05 and max|F_k|: 30.6\n",
      "DEBUG:fidimag:2019-02-19 15:11:08 step: 6, step_size: 1e-06, max dYdt: 3.97e+03 max|G|: 1.31e+04 max|gradE|: 2.09e+05 and max|F_k|: 32.2\n",
      "DEBUG:fidimag:2019-02-19 15:11:08 step: 7, step_size: 1e-06, max dYdt: 2.61e+03 max|G|: 7.38e+03 max|gradE|: 2.09e+05 and max|F_k|: 33.5\n",
      "DEBUG:fidimag:2019-02-19 15:11:08 step: 8, step_size: 1e-06, max dYdt: 1.72e+03 max|G|: 4.8e+03 max|gradE|: 2.09e+05 and max|F_k|: 34.1\n",
      "DEBUG:fidimag:2019-02-19 15:11:08 step: 9, step_size: 1e-06, max dYdt: 1.13e+03 max|G|: 3.13e+03 max|gradE|: 2.09e+05 and max|F_k|: 34.5\n",
      "DEBUG:fidimag:2019-02-19 15:11:08 step: 10, step_size: 1e-06, max dYdt: 744 max|G|: 2.52e+03 max|gradE|: 2.09e+05 and max|F_k|: 34.7\n",
      "DEBUG:fidimag:2019-02-19 15:11:08 step: 11, step_size: 1e-06, max dYdt: 489 max|G|: 1.32e+03 max|gradE|: 2.09e+05 and max|F_k|: 34.9\n",
      "DEBUG:fidimag:2019-02-19 15:11:08 step: 12, step_size: 1e-06, max dYdt: 322 max|G|: 959 max|gradE|: 2.09e+05 and max|F_k|: 35\n",
      "DEBUG:fidimag:2019-02-19 15:11:08 step: 13, step_size: 1e-06, max dYdt: 212 max|G|: 695 max|gradE|: 2.09e+05 and max|F_k|: 35.1\n",
      "DEBUG:fidimag:2019-02-19 15:11:08 step: 14, step_size: 1e-06, max dYdt: 139 max|G|: 366 max|gradE|: 2.09e+05 and max|F_k|: 35.1\n",
      "DEBUG:fidimag:2019-02-19 15:11:08 step: 15, step_size: 1e-06, max dYdt: 91.8 max|G|: 266 max|gradE|: 2.09e+05 and max|F_k|: 35.2\n",
      "DEBUG:fidimag:2019-02-19 15:11:08 step: 16, step_size: 1e-06, max dYdt: 60.3 max|G|: 193 max|gradE|: 2.09e+05 and max|F_k|: 35.2\n",
      "DEBUG:fidimag:2019-02-19 15:11:08 step: 17, step_size: 1e-06, max dYdt: 39.7 max|G|: 101 max|gradE|: 2.09e+05 and max|F_k|: 35.2\n",
      "DEBUG:fidimag:2019-02-19 15:11:08 step: 18, step_size: 1e-06, max dYdt: 26.2 max|G|: 73 max|gradE|: 2.09e+05 and max|F_k|: 35.2\n",
      "DEBUG:fidimag:2019-02-19 15:11:08 step: 19, step_size: 1.16e-06, max dYdt: 16.6 max|G|: 45.7 max|gradE|: 2.09e+05 and max|F_k|: 35.2\n",
      "DEBUG:fidimag:2019-02-19 15:11:08 step: 20, step_size: 1.16e-06, max dYdt: 10.1 max|G|: 35.2 max|gradE|: 2.09e+05 and max|F_k|: 35.2\n",
      "DEBUG:fidimag:2019-02-19 15:11:08 step: 21, step_size: 1.16e-06, max dYdt: 6.33 max|G|: 35.2 max|gradE|: 2.09e+05 and max|F_k|: 35.2\n",
      "DEBUG:fidimag:2019-02-19 15:11:08 step: 22, step_size: 1.16e-06, max dYdt: 6.06 max|G|: 35.2 max|gradE|: 2.09e+05 and max|F_k|: 35.2\n",
      "DEBUG:fidimag:2019-02-19 15:11:08 step: 23, step_size: 1.16e-06, max dYdt: 5.95 max|G|: 35.2 max|gradE|: 2.09e+05 and max|F_k|: 35.2\n",
      "DEBUG:fidimag:2019-02-19 15:11:08 step: 24, step_size: 1.87e-06, max dYdt: 5.88 max|G|: 35.2 max|gradE|: 2.09e+05 and max|F_k|: 35.2\n",
      "DEBUG:fidimag:2019-02-19 15:11:08 step: 25, step_size: 1.87e-06, max dYdt: 5.86 max|G|: 35.1 max|gradE|: 2.09e+05 and max|F_k|: 35.1\n",
      "DEBUG:fidimag:2019-02-19 15:11:08 step: 26, step_size: 1.87e-06, max dYdt: 5.87 max|G|: 35.1 max|gradE|: 2.09e+05 and max|F_k|: 35.1\n",
      "DEBUG:fidimag:2019-02-19 15:11:08 step: 27, step_size: 1.87e-06, max dYdt: 5.87 max|G|: 35.1 max|gradE|: 2.09e+05 and max|F_k|: 35.1\n",
      "DEBUG:fidimag:2019-02-19 15:11:08 step: 28, step_size: 1.87e-06, max dYdt: 5.85 max|G|: 35.1 max|gradE|: 2.09e+05 and max|F_k|: 35.1\n",
      "DEBUG:fidimag:2019-02-19 15:11:08 step: 29, step_size: 1.87e-06, max dYdt: 5.84 max|G|: 35.1 max|gradE|: 2.09e+05 and max|F_k|: 35.1\n",
      "DEBUG:fidimag:2019-02-19 15:11:08 step: 30, step_size: 1.87e-06, max dYdt: 5.85 max|G|: 35.1 max|gradE|: 2.09e+05 and max|F_k|: 35.1\n",
      "DEBUG:fidimag:2019-02-19 15:11:08 step: 31, step_size: 2.84e-06, max dYdt: 5.86 max|G|: 35.1 max|gradE|: 2.09e+05 and max|F_k|: 35.1\n",
      "DEBUG:fidimag:2019-02-19 15:11:08 step: 32, step_size: 2.84e-06, max dYdt: 5.85 max|G|: 35 max|gradE|: 2.09e+05 and max|F_k|: 35\n",
      "DEBUG:fidimag:2019-02-19 15:11:08 step: 33, step_size: 2.84e-06, max dYdt: 5.84 max|G|: 35 max|gradE|: 2.09e+05 and max|F_k|: 35\n",
      "DEBUG:fidimag:2019-02-19 15:11:08 step: 34, step_size: 2.84e-06, max dYdt: 5.83 max|G|: 35 max|gradE|: 2.09e+05 and max|F_k|: 35\n",
      "DEBUG:fidimag:2019-02-19 15:11:08 step: 35, step_size: 4.72e-06, max dYdt: 5.82 max|G|: 35 max|gradE|: 2.09e+05 and max|F_k|: 35\n",
      "DEBUG:fidimag:2019-02-19 15:11:08 step: 36, step_size: 4.72e-06, max dYdt: 5.82 max|G|: 34.9 max|gradE|: 2.09e+05 and max|F_k|: 34.9\n",
      "DEBUG:fidimag:2019-02-19 15:11:08 step: 37, step_size: 4.72e-06, max dYdt: 5.82 max|G|: 34.9 max|gradE|: 2.09e+05 and max|F_k|: 34.9\n",
      "DEBUG:fidimag:2019-02-19 15:11:08 step: 38, step_size: 1.13e-05, max dYdt: 5.81 max|G|: 34.8 max|gradE|: 2.09e+05 and max|F_k|: 34.8\n",
      "DEBUG:fidimag:2019-02-19 15:11:09 step: 39, step_size: 1.13e-05, max dYdt: 5.8 max|G|: 34.7 max|gradE|: 2.09e+05 and max|F_k|: 34.7\n",
      "DEBUG:fidimag:2019-02-19 15:11:09 step: 40, step_size: 1.99e-05, max dYdt: 5.78 max|G|: 34.6 max|gradE|: 2.09e+05 and max|F_k|: 34.6\n",
      "DEBUG:fidimag:2019-02-19 15:11:09 step: 41, step_size: 1.99e-05, max dYdt: 5.76 max|G|: 34.5 max|gradE|: 2.09e+05 and max|F_k|: 34.5\n",
      "DEBUG:fidimag:2019-02-19 15:11:09 step: 42, step_size: 4.84e-05, max dYdt: 5.72 max|G|: 34.1 max|gradE|: 2.09e+05 and max|F_k|: 34.1\n",
      "DEBUG:fidimag:2019-02-19 15:11:09 step: 43, step_size: 7.4e-05, max dYdt: 5.65 max|G|: 33.6 max|gradE|: 2.09e+05 and max|F_k|: 33.6\n",
      "DEBUG:fidimag:2019-02-19 15:11:09 step: 44, step_size: 0.000133, max dYdt: 5.54 max|G|: 32.8 max|gradE|: 2.09e+05 and max|F_k|: 32.8\n",
      "DEBUG:fidimag:2019-02-19 15:11:09 step: 45, step_size: 0.000133, max dYdt: 5.39 max|G|: 31.9 max|gradE|: 2.09e+05 and max|F_k|: 31.9\n",
      "DEBUG:fidimag:2019-02-19 15:11:09 step: 46, step_size: 0.000133, max dYdt: 5.26 max|G|: 31.1 max|gradE|: 2.09e+05 and max|F_k|: 31.1\n",
      "DEBUG:fidimag:2019-02-19 15:11:09 step: 47, step_size: 0.000312, max dYdt: 5.04 max|G|: 29.3 max|gradE|: 2.09e+05 and max|F_k|: 29.3\n",
      "DEBUG:fidimag:2019-02-19 15:11:09 step: 48, step_size: 0.000312, max dYdt: 4.75 max|G|: 27.7 max|gradE|: 2.09e+05 and max|F_k|: 27.6\n",
      "DEBUG:fidimag:2019-02-19 15:11:09 step: 49, step_size: 0.000312, max dYdt: 4.48 max|G|: 26.1 max|gradE|: 2.09e+05 and max|F_k|: 26.1\n",
      "DEBUG:fidimag:2019-02-19 15:11:09 step: 50, step_size: 0.000312, max dYdt: 4.23 max|G|: 24.7 max|gradE|: 2.09e+05 and max|F_k|: 24.7\n",
      "DEBUG:fidimag:2019-02-19 15:11:09 step: 51, step_size: 0.000531, max dYdt: 3.92 max|G|: 22.4 max|gradE|: 2.09e+05 and max|F_k|: 22.4\n",
      "DEBUG:fidimag:2019-02-19 15:11:09 step: 52, step_size: 0.000531, max dYdt: 3.57 max|G|: 20.5 max|gradE|: 2.09e+05 and max|F_k|: 20.5\n",
      "DEBUG:fidimag:2019-02-19 15:11:09 step: 53, step_size: 0.000531, max dYdt: 3.26 max|G|: 18.8 max|gradE|: 2.09e+05 and max|F_k|: 18.7\n",
      "DEBUG:fidimag:2019-02-19 15:11:09 step: 54, step_size: 0.000531, max dYdt: 2.99 max|G|: 17.4 max|gradE|: 2.09e+05 and max|F_k|: 17.2\n",
      "DEBUG:fidimag:2019-02-19 15:11:09 step: 55, step_size: 0.000531, max dYdt: 2.75 max|G|: 16.1 max|gradE|: 2.09e+05 and max|F_k|: 15.8\n",
      "DEBUG:fidimag:2019-02-19 15:11:09 step: 56, step_size: 0.000531, max dYdt: 2.53 max|G|: 15 max|gradE|: 2.09e+05 and max|F_k|: 14.6\n",
      "DEBUG:fidimag:2019-02-19 15:11:09 step: 57, step_size: 0.000531, max dYdt: 2.33 max|G|: 13.9 max|gradE|: 2.09e+05 and max|F_k|: 13.5\n",
      "DEBUG:fidimag:2019-02-19 15:11:09 step: 58, step_size: 0.000531, max dYdt: 2.16 max|G|: 13 max|gradE|: 2.09e+05 and max|F_k|: 12.5\n",
      "DEBUG:fidimag:2019-02-19 15:11:09 step: 59, step_size: 0.000531, max dYdt: 2 max|G|: 12.1 max|gradE|: 2.09e+05 and max|F_k|: 11.6\n",
      "DEBUG:fidimag:2019-02-19 15:11:09 step: 60, step_size: 0.000531, max dYdt: 1.86 max|G|: 11.2 max|gradE|: 2.09e+05 and max|F_k|: 10.8\n",
      "DEBUG:fidimag:2019-02-19 15:11:09 step: 61, step_size: 0.000826, max dYdt: 1.7 max|G|: 10.3 max|gradE|: 2.09e+05 and max|F_k|: 9.69\n",
      "DEBUG:fidimag:2019-02-19 15:11:09 step: 62, step_size: 0.000826, max dYdt: 1.53 max|G|: 9.36 max|gradE|: 2.09e+05 and max|F_k|: 8.75\n"
     ]
    },
    {
     "name": "stderr",
     "output_type": "stream",
     "text": [
      "DEBUG:fidimag:2019-02-19 15:11:09 step: 63, step_size: 0.000826, max dYdt: 1.39 max|G|: 8.31 max|gradE|: 2.09e+05 and max|F_k|: 7.94\n",
      "DEBUG:fidimag:2019-02-19 15:11:09 step: 64, step_size: 0.000826, max dYdt: 1.26 max|G|: 7.81 max|gradE|: 2.09e+05 and max|F_k|: 7.24\n",
      "DEBUG:fidimag:2019-02-19 15:11:09 step: 65, step_size: 0.000826, max dYdt: 1.15 max|G|: 7.31 max|gradE|: 2.09e+05 and max|F_k|: 6.63\n",
      "DEBUG:fidimag:2019-02-19 15:11:09 step: 66, step_size: 0.000826, max dYdt: 1.06 max|G|: 6.77 max|gradE|: 2.09e+05 and max|F_k|: 6.09\n",
      "DEBUG:fidimag:2019-02-19 15:11:09 step: 67, step_size: 0.000826, max dYdt: 0.997 max|G|: 6.13 max|gradE|: 2.09e+05 and max|F_k|: 5.87\n",
      "DEBUG:fidimag:2019-02-19 15:11:09 step: 68, step_size: 0.00125, max dYdt: 0.95 max|G|: 5.7 max|gradE|: 2.09e+05 and max|F_k|: 5.54\n",
      "DEBUG:fidimag:2019-02-19 15:11:09 step: 69, step_size: 0.00125, max dYdt: 0.896 max|G|: 6.67 max|gradE|: 2.09e+05 and max|F_k|: 5.22\n",
      "DEBUG:fidimag:2019-02-19 15:11:09 step: 70, step_size: 0.00125, max dYdt: 0.844 max|G|: 5.77 max|gradE|: 2.09e+05 and max|F_k|: 4.92\n",
      "DEBUG:fidimag:2019-02-19 15:11:09 step: 71, step_size: 0.00125, max dYdt: 0.796 max|G|: 5.04 max|gradE|: 2.09e+05 and max|F_k|: 4.64\n",
      "DEBUG:fidimag:2019-02-19 15:11:09 step: 72, step_size: 0.00125, max dYdt: 0.751 max|G|: 4.79 max|gradE|: 2.09e+05 and max|F_k|: 4.37\n",
      "DEBUG:fidimag:2019-02-19 15:11:10 step: 73, step_size: 0.00125, max dYdt: 0.708 max|G|: 4.13 max|gradE|: 2.09e+05 and max|F_k|: 4.13\n",
      "DEBUG:fidimag:2019-02-19 15:11:10 step: 74, step_size: 0.00125, max dYdt: 0.669 max|G|: 3.91 max|gradE|: 2.09e+05 and max|F_k|: 3.91\n",
      "DEBUG:fidimag:2019-02-19 15:11:10 step: 75, step_size: 0.0019, max dYdt: 0.624 max|G|: 4.05 max|gradE|: 2.09e+05 and max|F_k|: 3.59\n",
      "DEBUG:fidimag:2019-02-19 15:11:10 step: 76, step_size: 0.0019, max dYdt: 0.576 max|G|: 3.74 max|gradE|: 2.09e+05 and max|F_k|: 3.32\n",
      "DEBUG:fidimag:2019-02-19 15:11:10 step: 77, step_size: 0.0019, max dYdt: 0.532 max|G|: 3.73 max|gradE|: 2.09e+05 and max|F_k|: 3.07\n",
      "DEBUG:fidimag:2019-02-19 15:11:10 step: 78, step_size: 0.0019, max dYdt: 0.493 max|G|: 5.55 max|gradE|: 2.09e+05 and max|F_k|: 2.85\n",
      "DEBUG:fidimag:2019-02-19 15:11:10 step: 79, step_size: 0.0019, max dYdt: 0.459 max|G|: 5.3 max|gradE|: 2.09e+05 and max|F_k|: 2.66\n",
      "DEBUG:fidimag:2019-02-19 15:11:10 step: 80, step_size: 0.0019, max dYdt: 0.428 max|G|: 5.99 max|gradE|: 2.09e+05 and max|F_k|: 2.51\n",
      "DEBUG:fidimag:2019-02-19 15:11:10 step: 81, step_size: 0.0019, max dYdt: 0.409 max|G|: 6.13 max|gradE|: 2.09e+05 and max|F_k|: 2.4\n",
      "DEBUG:fidimag:2019-02-19 15:11:10 step: 82, step_size: 0.0019, max dYdt: 0.391 max|G|: 5.16 max|gradE|: 2.09e+05 and max|F_k|: 2.29\n",
      "DEBUG:fidimag:2019-02-19 15:11:10 step: 83, step_size: 0.0029, max dYdt: 0.369 max|G|: 3.71 max|gradE|: 2.09e+05 and max|F_k|: 2.14\n",
      "DEBUG:fidimag:2019-02-19 15:11:10 step: 84, step_size: 0.0029, max dYdt: 0.345 max|G|: 6.4 max|gradE|: 2.09e+05 and max|F_k|: 2\n",
      "DEBUG:fidimag:2019-02-19 15:11:10 step: 85, step_size: 0.0029, max dYdt: 0.323 max|G|: 6.26 max|gradE|: 2.09e+05 and max|F_k|: 1.88\n",
      "DEBUG:fidimag:2019-02-19 15:11:10 step: 86, step_size: 0.0029, max dYdt: 0.303 max|G|: 5.65 max|gradE|: 2.08e+05 and max|F_k|: 1.76\n",
      "DEBUG:fidimag:2019-02-19 15:11:10 step: 87, step_size: 0.0029, max dYdt: 0.284 max|G|: 6.49 max|gradE|: 2.08e+05 and max|F_k|: 1.65\n",
      "DEBUG:fidimag:2019-02-19 15:11:10 step: 88, step_size: 0.0029, max dYdt: 0.266 max|G|: 6.28 max|gradE|: 2.08e+05 and max|F_k|: 1.55\n",
      "DEBUG:fidimag:2019-02-19 15:11:10 step: 89, step_size: 0.0029, max dYdt: 0.25 max|G|: 3.73 max|gradE|: 2.08e+05 and max|F_k|: 1.45\n",
      "DEBUG:fidimag:2019-02-19 15:11:10 step: 90, step_size: 0.0029, max dYdt: 0.235 max|G|: 6.2 max|gradE|: 2.08e+05 and max|F_k|: 1.37\n",
      "DEBUG:fidimag:2019-02-19 15:11:10 step: 91, step_size: 0.00493, max dYdt: 0.216 max|G|: 6.85 max|gradE|: 2.08e+05 and max|F_k|: 1.23\n",
      "DEBUG:fidimag:2019-02-19 15:11:10 step: 92, step_size: 0.00493, max dYdt: 0.195 max|G|: 3.73 max|gradE|: 2.07e+05 and max|F_k|: 1.11\n",
      "DEBUG:fidimag:2019-02-19 15:11:10 step: 93, step_size: 0.00493, max dYdt: 0.176 max|G|: 3.73 max|gradE|: 2.07e+05 and max|F_k|: 1\n",
      "DEBUG:fidimag:2019-02-19 15:11:10 step: 94, step_size: 0.00493, max dYdt: 0.159 max|G|: 3.73 max|gradE|: 2.07e+05 and max|F_k|: 0.907\n",
      "DEBUG:fidimag:2019-02-19 15:11:10 step: 95, step_size: 0.00493, max dYdt: 0.144 max|G|: 5.12 max|gradE|: 2.07e+05 and max|F_k|: 0.82\n",
      "DEBUG:fidimag:2019-02-19 15:11:10 step: 96, step_size: 0.00493, max dYdt: 0.13 max|G|: 3.87 max|gradE|: 2.07e+05 and max|F_k|: 0.743\n",
      "DEBUG:fidimag:2019-02-19 15:11:10 step: 97, step_size: 0.00493, max dYdt: 0.118 max|G|: 5.87 max|gradE|: 2.06e+05 and max|F_k|: 0.674\n",
      "DEBUG:fidimag:2019-02-19 15:11:10 step: 98, step_size: 0.0077, max dYdt: 0.104 max|G|: 7.43 max|gradE|: 2.06e+05 and max|F_k|: 0.576\n",
      "DEBUG:fidimag:2019-02-19 15:11:10 step: 99, step_size: 0.0077, max dYdt: 0.0892 max|G|: 3.73 max|gradE|: 2.06e+05 and max|F_k|: 0.495\n",
      "DEBUG:fidimag:2019-02-19 15:11:10 step: 100, step_size: 0.0077, max dYdt: 0.0765 max|G|: 3.73 max|gradE|: 2.06e+05 and max|F_k|: 0.425\n",
      "DEBUG:fidimag:2019-02-19 15:11:10 step: 101, step_size: 0.0077, max dYdt: 0.0656 max|G|: 4.87 max|gradE|: 2.05e+05 and max|F_k|: 0.364\n",
      "DEBUG:fidimag:2019-02-19 15:11:10 step: 102, step_size: 0.0077, max dYdt: 0.0563 max|G|: 5.35 max|gradE|: 2.05e+05 and max|F_k|: 0.313\n",
      "DEBUG:fidimag:2019-02-19 15:11:11 step: 103, step_size: 0.0077, max dYdt: 0.0483 max|G|: 3.98 max|gradE|: 2.05e+05 and max|F_k|: 0.27\n",
      "DEBUG:fidimag:2019-02-19 15:11:11 step: 104, step_size: 0.0077, max dYdt: 0.0415 max|G|: 5.16 max|gradE|: 2.05e+05 and max|F_k|: 0.231\n",
      "DEBUG:fidimag:2019-02-19 15:11:11 step: 105, step_size: 0.0077, max dYdt: 0.0356 max|G|: 5.38 max|gradE|: 2.05e+05 and max|F_k|: 0.198\n",
      "DEBUG:fidimag:2019-02-19 15:11:11 step: 106, step_size: 0.0119, max dYdt: 0.0294 max|G|: 6.83 max|gradE|: 2.05e+05 and max|F_k|: 0.156\n",
      "DEBUG:fidimag:2019-02-19 15:11:11 step: 107, step_size: 0.0119, max dYdt: 0.0232 max|G|: 3.49 max|gradE|: 2.05e+05 and max|F_k|: 0.123\n",
      "DEBUG:fidimag:2019-02-19 15:11:11 step: 108, step_size: 0.0119, max dYdt: 0.0183 max|G|: 6.07 max|gradE|: 2.05e+05 and max|F_k|: 0.0974\n",
      "DEBUG:fidimag:2019-02-19 15:11:11 step: 109, step_size: 0.0119, max dYdt: 0.0145 max|G|: 3.29 max|gradE|: 2.04e+05 and max|F_k|: 0.0768\n",
      "DEBUG:fidimag:2019-02-19 15:11:11 step: 110, step_size: 0.0119, max dYdt: 0.0114 max|G|: 5.16 max|gradE|: 2.04e+05 and max|F_k|: 0.0619\n",
      "DEBUG:fidimag:2019-02-19 15:11:11 step: 111, step_size: 0.0119, max dYdt: 0.00901 max|G|: 3.8 max|gradE|: 2.04e+05 and max|F_k|: 0.0482\n",
      "DEBUG:fidimag:2019-02-19 15:11:11 step: 112, step_size: 0.0119, max dYdt: 0.00712 max|G|: 5 max|gradE|: 2.04e+05 and max|F_k|: 0.0381\n",
      "DEBUG:fidimag:2019-02-19 15:11:11 step: 113, step_size: 0.0119, max dYdt: 0.00562 max|G|: 5.75 max|gradE|: 2.04e+05 and max|F_k|: 0.0306\n",
      "DEBUG:fidimag:2019-02-19 15:11:11 step: 114, step_size: 0.0119, max dYdt: 0.00444 max|G|: 5.39 max|gradE|: 2.04e+05 and max|F_k|: 0.0239\n",
      "DEBUG:fidimag:2019-02-19 15:11:11 step: 115, step_size: 0.0119, max dYdt: 0.0035 max|G|: 4.96 max|gradE|: 2.04e+05 and max|F_k|: 0.0199\n",
      "DEBUG:fidimag:2019-02-19 15:11:11 step: 116, step_size: 0.0119, max dYdt: 0.00276 max|G|: 5.83 max|gradE|: 2.04e+05 and max|F_k|: 0.015\n",
      "DEBUG:fidimag:2019-02-19 15:11:11 step: 117, step_size: 0.018, max dYdt: 0.00206 max|G|: 5.65 max|gradE|: 2.04e+05 and max|F_k|: 0.0104\n",
      "DEBUG:fidimag:2019-02-19 15:11:11 step: 118, step_size: 0.018, max dYdt: 0.00145 max|G|: 7.62 max|gradE|: 2.04e+05 and max|F_k|: 0.00751\n",
      "DEBUG:fidimag:2019-02-19 15:11:11 step: 119, step_size: 0.018, max dYdt: 0.00101 max|G|: 8.77 max|gradE|: 2.04e+05 and max|F_k|: 0.00506\n",
      "DEBUG:fidimag:2019-02-19 15:11:11 step: 120, step_size: 0.018, max dYdt: 0.000706 max|G|: 7.26 max|gradE|: 2.04e+05 and max|F_k|: 0.00363\n",
      "DEBUG:fidimag:2019-02-19 15:11:11 step: 121, step_size: 0.018, max dYdt: 0.000491 max|G|: 7.89 max|gradE|: 2.04e+05 and max|F_k|: 0.00262\n",
      "DEBUG:fidimag:2019-02-19 15:11:11 step: 122, step_size: 0.018, max dYdt: 0.000342 max|G|: 7.69 max|gradE|: 2.04e+05 and max|F_k|: 0.00179\n",
      "DEBUG:fidimag:2019-02-19 15:11:11 step: 123, step_size: 0.0297, max dYdt: 0.000217 max|G|: 6.56 max|gradE|: 2.04e+05 and max|F_k|: 0.00129\n",
      "DEBUG:fidimag:2019-02-19 15:11:11 step: 124, step_size: 0.0297, max dYdt: 0.000125 max|G|: 8.14 max|gradE|: 2.04e+05 and max|F_k|: 0.00055\n"
     ]
    },
    {
     "name": "stderr",
     "output_type": "stream",
     "text": [
      "DEBUG:fidimag:2019-02-19 15:11:11 step: 125, step_size: 0.0297, max dYdt: 6.58e-05 max|G|: 7.54 max|gradE|: 2.04e+05 and max|F_k|: 0.000286\n",
      "INFO:fidimag:Relaxation finished at time step = 125, t = 0.48, call rhs = 945 and max_dYdt = 6.58e-05\n"
     ]
    }
   ],
   "source": [
    "# Material Parameters\n",
    "# Parameters\n",
    "A = 1e-12\n",
    "Kx = 1e5\n",
    "# Strong anisotropy\n",
    "Ms = 3.8e5\n",
    "\n",
    "\n",
    "\"\"\"\n",
    "We will define two particles using a 4 sites mesh, letting the\n",
    "sites in the middle as Ms = 0\n",
    "\n",
    "\"\"\"\n",
    "\n",
    "\n",
    "def two_part(pos):\n",
    "\n",
    "    x = pos[0]\n",
    "\n",
    "    if x > 6 or x < 3:\n",
    "        return Ms\n",
    "    else:\n",
    "        return 0\n",
    "\n",
    "# Finite differences mesh\n",
    "mesh = CuboidMesh(nx=3,\n",
    "                  ny=1,\n",
    "                  nz=1,\n",
    "                  dx=3, dy=3, dz=3,\n",
    "                  unit_length=1e-9\n",
    "                  )\n",
    "\n",
    "\n",
    "# Prepare simulation\n",
    "# We define the cylinder with the Magnetisation function\n",
    "sim = Sim(mesh)\n",
    "sim.Ms = two_part\n",
    "\n",
    "# sim.add(UniformExchange(A=A))\n",
    "\n",
    "# Uniaxial anisotropy along x-axis\n",
    "sim.add(UniaxialAnisotropy(Kx, axis=(1, 0, 0)))\n",
    "\n",
    "def mid_m(pos):\n",
    "    if pos[0] > 4:\n",
    "        return (0.5, 0, 0.2)\n",
    "    else:\n",
    "        return (-0.5, 0, 0.2)\n",
    "\n",
    "init_im = [(-1, 0, 0), mid_m, (1, 0, 0)]\n",
    "interp = [6, 6]\n",
    "\n",
    "# Define many initial states close to one extreme. We want to check\n",
    "# if the images in the last step, are placed mostly in equally positions\n",
    "init_images = init_im\n",
    "interpolations = interp\n",
    "\n",
    "neb = NEBM_Geodesic(sim,\n",
    "                    init_images,\n",
    "                    interpolations=interpolations,\n",
    "                    spring_constant=100,\n",
    "                    name='test',\n",
    "                    integrator='sundials'\n",
    "                    )\n",
    "\n",
    "neb.relax(max_iterations=2000,\n",
    "          save_vtks_every=1000,\n",
    "          save_npys_every=1000,\n",
    "          stopping_dYdt=1e-4,\n",
    "          dt=1e-6\n",
    "          )"
   ]
  },
  {
   "cell_type": "markdown",
   "metadata": {},
   "source": [
    "Get the interpolated data"
   ]
  },
  {
   "cell_type": "code",
   "execution_count": 374,
   "metadata": {},
   "outputs": [],
   "source": [
    "neb.compute_polynomial_factors()\n",
    "interp_x, interp_y = neb.compute_polynomial_approximation_energy(200)"
   ]
  },
  {
   "cell_type": "code",
   "execution_count": 375,
   "metadata": {},
   "outputs": [
    {
     "data": {
      "text/plain": [
       "[<matplotlib.lines.Line2D at 0x7ff1352f4588>]"
      ]
     },
     "execution_count": 375,
     "metadata": {},
     "output_type": "execute_result"
    },
    {
     "data": {
      "image/png": "[encoded data removed]",
      "text/plain": [
       "<matplotlib.figure.Figure at 0x7ff1352f4240>"
      ]
     },
     "metadata": {},
     "output_type": "display_data"
    }
   ],
   "source": [
    "plt.plot(interp_x, interp_y)\n",
    "plt.plot(neb.path_distances, neb.energies, 'o')"
   ]
  },
  {
   "cell_type": "code",
   "execution_count": 376,
   "metadata": {
    "scrolled": true
   },
   "outputs": [
    {
     "name": "stderr",
     "output_type": "stream",
     "text": [
      "DEBUG:fidimag:Relaxation parameters: stopping_dYdt=0.0001, time_step=1e-06 s,  max_iterations=2000.\n",
      "DEBUG:fidimag:2019-02-19 15:11:14 step: 126, step_size: 0.0297, max dYdt: 1.26 max|G|: 8.63 max|gradE|: 2.09e+05 and max|F_k|: 15.2\n",
      "DEBUG:fidimag:2019-02-19 15:11:14 step: 127, step_size: 0.00302, max dYdt: 0.213 max|G|: 5.7 max|gradE|: 2.09e+05 and max|F_k|: 14.8\n",
      "DEBUG:fidimag:2019-02-19 15:11:14 step: 128, step_size: 0.00302, max dYdt: 0.179 max|G|: 2.48 max|gradE|: 2.09e+05 and max|F_k|: 14.5\n",
      "DEBUG:fidimag:2019-02-19 15:11:14 step: 129, step_size: 0.00302, max dYdt: 0.15 max|G|: 2.48 max|gradE|: 2.09e+05 and max|F_k|: 14.2\n",
      "DEBUG:fidimag:2019-02-19 15:11:14 step: 130, step_size: 0.00302, max dYdt: 0.126 max|G|: 6.3 max|gradE|: 2.09e+05 and max|F_k|: 14\n",
      "DEBUG:fidimag:2019-02-19 15:11:14 step: 131, step_size: 0.00302, max dYdt: 0.105 max|G|: 8.23 max|gradE|: 2.09e+05 and max|F_k|: 13.9\n",
      "DEBUG:fidimag:2019-02-19 15:11:14 step: 132, step_size: 0.00302, max dYdt: 0.0882 max|G|: 8 max|gradE|: 2.09e+05 and max|F_k|: 13.7\n",
      "DEBUG:fidimag:2019-02-19 15:11:14 step: 133, step_size: 0.00302, max dYdt: 0.0739 max|G|: 7.48 max|gradE|: 2.09e+05 and max|F_k|: 13.6\n",
      "DEBUG:fidimag:2019-02-19 15:11:14 step: 134, step_size: 0.00302, max dYdt: 0.0619 max|G|: 7.19 max|gradE|: 2.09e+05 and max|F_k|: 13.5\n",
      "DEBUG:fidimag:2019-02-19 15:11:14 step: 135, step_size: 0.00302, max dYdt: 0.0519 max|G|: 4.94 max|gradE|: 2.09e+05 and max|F_k|: 13.4\n",
      "DEBUG:fidimag:2019-02-19 15:11:14 step: 136, step_size: 0.00302, max dYdt: 0.0435 max|G|: 6.07 max|gradE|: 2.09e+05 and max|F_k|: 13.4\n",
      "DEBUG:fidimag:2019-02-19 15:11:14 step: 137, step_size: 0.00456, max dYdt: 0.035 max|G|: 3.14 max|gradE|: 2.09e+05 and max|F_k|: 13.3\n",
      "DEBUG:fidimag:2019-02-19 15:11:14 step: 138, step_size: 0.00456, max dYdt: 0.0268 max|G|: 3.61 max|gradE|: 2.09e+05 and max|F_k|: 13.3\n",
      "DEBUG:fidimag:2019-02-19 15:11:14 step: 139, step_size: 0.00456, max dYdt: 0.0205 max|G|: 3.57 max|gradE|: 2.09e+05 and max|F_k|: 13.2\n",
      "DEBUG:fidimag:2019-02-19 15:11:14 step: 140, step_size: 0.00456, max dYdt: 0.0157 max|G|: 8.79 max|gradE|: 2.09e+05 and max|F_k|: 13.2\n",
      "DEBUG:fidimag:2019-02-19 15:11:14 step: 141, step_size: 0.00456, max dYdt: 0.012 max|G|: 5.79 max|gradE|: 2.09e+05 and max|F_k|: 13.2\n",
      "DEBUG:fidimag:2019-02-19 15:11:14 step: 142, step_size: 0.00456, max dYdt: 0.00918 max|G|: 5.6 max|gradE|: 2.09e+05 and max|F_k|: 13.1\n",
      "DEBUG:fidimag:2019-02-19 15:11:14 step: 143, step_size: 0.00456, max dYdt: 0.00702 max|G|: 7.14 max|gradE|: 2.09e+05 and max|F_k|: 13.1\n",
      "DEBUG:fidimag:2019-02-19 15:11:15 step: 144, step_size: 0.00711, max dYdt: 0.00503 max|G|: 8.11 max|gradE|: 2.09e+05 and max|F_k|: 13.1\n",
      "DEBUG:fidimag:2019-02-19 15:11:15 step: 145, step_size: 0.00711, max dYdt: 0.00334 max|G|: 2.48 max|gradE|: 2.09e+05 and max|F_k|: 13.1\n",
      "DEBUG:fidimag:2019-02-19 15:11:15 step: 146, step_size: 0.00711, max dYdt: 0.0022 max|G|: 2.48 max|gradE|: 2.09e+05 and max|F_k|: 13.1\n",
      "DEBUG:fidimag:2019-02-19 15:11:15 step: 147, step_size: 0.00711, max dYdt: 0.00144 max|G|: 7.59 max|gradE|: 2.09e+05 and max|F_k|: 13.1\n",
      "DEBUG:fidimag:2019-02-19 15:11:15 step: 148, step_size: 0.00711, max dYdt: 0.000937 max|G|: 6.06 max|gradE|: 2.09e+05 and max|F_k|: 13.1\n",
      "DEBUG:fidimag:2019-02-19 15:11:15 step: 149, step_size: 0.00711, max dYdt: 0.000614 max|G|: 6.01 max|gradE|: 2.09e+05 and max|F_k|: 13.1\n",
      "DEBUG:fidimag:2019-02-19 15:11:15 step: 150, step_size: 0.0123, max dYdt: 0.000366 max|G|: 8.31 max|gradE|: 2.09e+05 and max|F_k|: 13.1\n",
      "DEBUG:fidimag:2019-02-19 15:11:15 step: 151, step_size: 0.0123, max dYdt: 0.000197 max|G|: 6.98 max|gradE|: 2.09e+05 and max|F_k|: 13.1\n",
      "DEBUG:fidimag:2019-02-19 15:11:15 step: 152, step_size: 0.0123, max dYdt: 0.000107 max|G|: 7.04 max|gradE|: 2.09e+05 and max|F_k|: 13.1\n",
      "DEBUG:fidimag:2019-02-19 15:11:15 step: 153, step_size: 0.0123, max dYdt: 5.77e-05 max|G|: 6.16 max|gradE|: 2.09e+05 and max|F_k|: 13.1\n",
      "INFO:fidimag:Relaxation finished at time step = 153, t = 0.67, call rhs = 1945 and max_dYdt = 5.77e-05\n"
     ]
    }
   ],
   "source": [
    "# Set the climbing and falling images\n",
    "neb.climbing_image = [3, 10, -7]\n",
    "neb.relax(max_iterations=2000,\n",
    "          save_vtks_every=1000,\n",
    "          save_npys_every=1000,\n",
    "          stopping_dYdt=1e-4,\n",
    "          dt=1e-6,\n",
    "          save_initial_state=False\n",
    "          )"
   ]
  },
  {
   "cell_type": "markdown",
   "metadata": {},
   "source": [
    "We can see that climbing image and the falling image successfully move to the sadddle point and local minimum"
   ]
  },
  {
   "cell_type": "code",
   "execution_count": 377,
   "metadata": {},
   "outputs": [],
   "source": [
    "neb.compute_polynomial_factors()\n",
    "interp_x, interp_y = neb.compute_polynomial_approximation_energy(200)"
   ]
  },
  {
   "cell_type": "code",
   "execution_count": 378,
   "metadata": {},
   "outputs": [
    {
     "data": {
      "text/plain": [
       "[<matplotlib.lines.Line2D at 0x7ff1353011d0>]"
      ]
     },
     "execution_count": 378,
     "metadata": {},
     "output_type": "execute_result"
    },
    {
     "data": {
      "image/png": "[encoded data removed]",
      "text/plain": [
       "<matplotlib.figure.Figure at 0x7ff1353018d0>"
      ]
     },
     "metadata": {},
     "output_type": "display_data"
    }
   ],
   "source": [
    "plt.plot(interp_x, interp_y)\n",
    "plt.plot(neb.path_distances, neb.energies, 'o')"
   ]
  },
  {
   "cell_type": "markdown",
   "metadata": {},
   "source": [
    "We can plot the x component of the spin 0, 1 and 2. Spin 1 has Ms=0 so no component "
   ]
  },
  {
   "cell_type": "code",
   "execution_count": 379,
   "metadata": {},
   "outputs": [],
   "source": [
    "mx0 = neb.band.reshape(-1, neb.n_dofs_image)[:, 0]\n",
    "mx1 = neb.band.reshape(-1, neb.n_dofs_image)[:, 3]\n",
    "mx2 = neb.band.reshape(-1, neb.n_dofs_image)[:, 6]"
   ]
  },
  {
   "cell_type": "code",
   "execution_count": 380,
   "metadata": {},
   "outputs": [
    {
     "data": {
      "text/plain": [
       "[<matplotlib.lines.Line2D at 0x7ff134dea7f0>]"
      ]
     },
     "execution_count": 380,
     "metadata": {},
     "output_type": "execute_result"
    },
    {
     "data": {
      "image/png": "[encoded data removed]",
      "text/plain": [
       "<matplotlib.figure.Figure at 0x7ff134d52518>"
      ]
     },
     "metadata": {},
     "output_type": "display_data"
    }
   ],
   "source": [
    "plt.plot(neb.path_distances, mx0, 'o-')\n",
    "plt.plot(neb.path_distances, mx1, 'o-')\n",
    "plt.plot(neb.path_distances, mx2, 'o-')"
   ]
  },
  {
   "cell_type": "markdown",
   "metadata": {},
   "source": [
    "# Cubic interpolation"
   ]
  },
  {
   "cell_type": "markdown",
   "metadata": {},
   "source": [
    "We can attempt to interpolate every spin component: mx0, mx1, mx2, my0, ... etc. We will start with mx0, which is the 0th component in every band image array"
   ]
  },
  {
   "cell_type": "code",
   "execution_count": 107,
   "metadata": {},
   "outputs": [],
   "source": [
    "i_factors = [None for i in range(4)]"
   ]
  },
  {
   "cell_type": "code",
   "execution_count": 108,
   "metadata": {},
   "outputs": [
    {
     "data": {
      "text/plain": [
       "array([1.28930963e-26, 1.28930963e-26, 1.28930963e-26, 0.00000000e+00,\n",
       "       0.00000000e+00, 0.00000000e+00, 1.28930963e-26, 1.28930963e-26,\n",
       "       1.28930963e-26])"
      ]
     },
     "execution_count": 108,
     "metadata": {},
     "output_type": "execute_result"
    }
   ],
   "source": [
    "neb.scale"
   ]
  },
  {
   "cell_type": "code",
   "execution_count": 228,
   "metadata": {},
   "outputs": [],
   "source": [
    "neb.compute_effective_field_and_energy(neb.band)\n",
    "# fidimag.common.nebm_geodesic.nebm_clib.project_images(neb.gradientE, neb.band, neb.n_images, neb.n_dofs_image)"
   ]
  },
  {
   "cell_type": "markdown",
   "metadata": {},
   "source": [
    "To interpolate the spin component we use: $d m_x / ds = (d m_x^{(0)} / dE)  * dE / ds = H_{x(0),\\text{eff}}^{-1} (\\mathbf{H}_{\\text{eff}}\\cdot\\mathbf{t})$\n",
    "\n",
    "$dE/ds$ is the energy tangent, which translates into the gradient (wrt to $m$) along the path by the tangents to the curve\n",
    "\n",
    "Check: https://aip.scitation.org/doi/10.1063/1.1323224"
   ]
  },
  {
   "cell_type": "code",
   "execution_count": 229,
   "metadata": {},
   "outputs": [
    {
     "name": "stdout",
     "output_type": "stream",
     "text": [
      "0 0.0\n",
      "14 0.0\n"
     ]
    }
   ],
   "source": [
    "deltas = np.zeros(neb.n_images)\n",
    "for i in range(neb.n_images):\n",
    "    deltas[i] = np.dot(neb.scale * (neb.gradientE).reshape(neb.n_images, -1)[i],\n",
    "                       neb.tangents.reshape(neb.n_images, -1)[i]\n",
    "                       )\n",
    "    # Scale by the 0th spin component in the array and\n",
    "    # divide by the x component of the effective field for the 0th spin\n",
    "    den = neb.scale[0] * (neb.gradientE).reshape(neb.n_images, -1)[i][0]\n",
    "    if den != 0:\n",
    "        deltas[i] = deltas[i] / den\n",
    "    else:\n",
    "        print(i, deltas[i])\n",
    "        deltas[i] = 0"
   ]
  },
  {
   "cell_type": "code",
   "execution_count": 230,
   "metadata": {},
   "outputs": [],
   "source": [
    "i_factors[3] = mx0\n",
    "i_factors[2] = deltas"
   ]
  },
  {
   "cell_type": "code",
   "execution_count": 231,
   "metadata": {},
   "outputs": [],
   "source": [
    "i_factors[1] = np.zeros(neb.n_images)\n",
    "i_factors[0] = np.zeros(neb.n_images)\n",
    "ds = neb.path_distances\n",
    "for i in range(neb.n_images - 1):\n",
    "    i_factors[1][i] = -(deltas[i + 1] + 2 * deltas[i]) / (ds[i + 1] - ds[i])\n",
    "    i_factors[1][i] += 3 * (mx0[i + 1] - mx0[i]) / (ds[i + 1] - ds[i]) ** 2.\n",
    "    \n",
    "    i_factors[0][i] = (deltas[i + 1] + deltas[i]) / (ds[i + 1] - ds[i]) ** 2.\n",
    "    i_factors[0][i] -= 2 * (mx0[i + 1] - mx0[i]) / (ds[i + 1] - ds[i]) ** 3."
   ]
  },
  {
   "cell_type": "code",
   "execution_count": 232,
   "metadata": {},
   "outputs": [
    {
     "data": {
      "text/plain": [
       "[array([ 1.57944285,  3.15884928,  1.5794361 , -1.57945529, -3.15888383,\n",
       "        -1.57944962, -0.03215705, -0.09230792, -0.13831555, -0.54978485,\n",
       "        -0.5496781 , -0.1380243 , -0.09221273, -0.03238707,  0.        ]),\n",
       " array([-0.82699716, -2.48096152, -1.65398289,  0.82699643,  2.48097963,\n",
       "         1.65397918,  0.5061662 ,  0.46745168,  0.35749071,  0.34479872,\n",
       "         0.30284896, -0.19469794, -0.35874835, -0.46816933,  0.        ]),\n",
       " array([ 0.00000000e+00,  4.33013394e-01,  4.33011317e-01, -5.37187116e-13,\n",
       "        -4.33012762e-01, -4.33005494e-01, -3.11910351e-06,  3.82660922e-01,\n",
       "         7.07092416e-01,  9.23876783e-01,  9.40325534e-01,  9.23881179e-01,\n",
       "         7.07109847e-01,  3.82686577e-01,  0.00000000e+00]),\n",
       " array([-1.00000000e+00, -1.00000036e+00, -9.99999140e-01, -9.99999520e-01,\n",
       "        -9.99999620e-01, -9.99999231e-01, -9.99998760e-01, -9.23890565e-01,\n",
       "        -7.07122221e-01, -3.82690087e-01,  1.82819533e-11,  3.82679459e-01,\n",
       "         7.07103928e-01,  9.23878261e-01,  1.00000000e+00])]"
      ]
     },
     "execution_count": 232,
     "metadata": {},
     "output_type": "execute_result"
    }
   ],
   "source": [
    "i_factors"
   ]
  },
  {
   "cell_type": "markdown",
   "metadata": {},
   "source": [
    "The interpolation:"
   ]
  },
  {
   "cell_type": "code",
   "execution_count": 236,
   "metadata": {},
   "outputs": [],
   "source": [
    "x = np.linspace(0, neb.path_distances[-1], 200)\n",
    "y = np.zeros_like(x)\n",
    "\n",
    "for i, yi in enumerate(y):\n",
    "    \n",
    "    # ds = self.path_distances\n",
    "    if x[i] < 0.0 or x[i] > ds[-1]:\n",
    "        raise Exception('x lies outside the valid interpolation range')\n",
    "    # Find index of the ds array for the value that is closest to x\n",
    "    ds_idx = np.abs(x[i] - ds).argmin()\n",
    "    # If x is smaller than the given ds, use the previous ds value so\n",
    "    # that we use ds(i) when x lies in the interval ds(i) < x < ds(i+1)\n",
    "    if x[i] < ds[ds_idx]:\n",
    "        ds_idx -= 1\n",
    "\n",
    "    \n",
    "    y[i] = (i_factors[0][ds_idx] * (x[i] - ds[ds_idx]) ** 3 +\n",
    "            i_factors[1][ds_idx] * (x[i] - ds[ds_idx]) ** 2 +\n",
    "            i_factors[2][ds_idx] * (x[i] - ds[ds_idx]) +\n",
    "            i_factors[3][ds_idx]\n",
    "            )"
   ]
  },
  {
   "cell_type": "code",
   "execution_count": 237,
   "metadata": {},
   "outputs": [
    {
     "data": {
      "text/plain": [
       "array([-1.00000000e+00, -1.00000036e+00, -9.99999140e-01, -9.99999520e-01,\n",
       "       -9.99999620e-01, -9.99999231e-01, -9.99998760e-01, -9.23890565e-01,\n",
       "       -7.07122221e-01, -3.82690087e-01,  1.82819533e-11,  3.82679459e-01,\n",
       "        7.07103928e-01,  9.23878261e-01,  1.00000000e+00])"
      ]
     },
     "execution_count": 237,
     "metadata": {},
     "output_type": "execute_result"
    }
   ],
   "source": [
    "i_factors[3]"
   ]
  },
  {
   "cell_type": "markdown",
   "metadata": {},
   "source": [
    "A cubic spline is not the best solution when the curve is linear"
   ]
  },
  {
   "cell_type": "code",
   "execution_count": 238,
   "metadata": {},
   "outputs": [
    {
     "data": {
      "text/plain": [
       "[<matplotlib.lines.Line2D at 0x7ff13505fc50>]"
      ]
     },
     "execution_count": 238,
     "metadata": {},
     "output_type": "execute_result"
    },
    {
     "data": {
      "image/png": "[encoded data removed]",
      "text/plain": [
       "<matplotlib.figure.Figure at 0x7ff1350bc1d0>"
      ]
     },
     "metadata": {},
     "output_type": "display_data"
    }
   ],
   "source": [
    "plt.figure(figsize=(8, 6))\n",
    "plt.plot(neb.path_distances, mx0, 'o-')\n",
    "plt.plot(x, y)"
   ]
  },
  {
   "cell_type": "markdown",
   "metadata": {},
   "source": [
    "# Bernstein"
   ]
  },
  {
   "cell_type": "code",
   "execution_count": 315,
   "metadata": {},
   "outputs": [],
   "source": [
    "import scipy.interpolate as si"
   ]
  },
  {
   "cell_type": "code",
   "execution_count": 362,
   "metadata": {},
   "outputs": [
    {
     "name": "stdout",
     "output_type": "stream",
     "text": [
      "0 0.0\n",
      "14 0.0\n"
     ]
    }
   ],
   "source": [
    "derivatives = np.zeros(neb.n_images)\n",
    "for i in range(neb.n_images):\n",
    "    derivatives[i] = np.dot(\n",
    "        neb.scale * (neb.gradientE).reshape(neb.n_images, -1)[i],\n",
    "        neb.tangents.reshape(neb.n_images, -1)[i])\n",
    "    \n",
    "    den = neb.scale[6] * (neb.gradientE).reshape(neb.n_images, -1)[i][6]\n",
    "    if den != 0:\n",
    "        derivatives[i] = derivatives[i] / den\n",
    "    else:\n",
    "        print(i, derivatives[i])\n",
    "        deltas[i] = 0\n",
    "\n",
    "#  = self.energies\n",
    "\n",
    "# The coefficients for the polynomial approximation\n",
    "# self.interp_factors[0][:] = E\n",
    "# self.interp_factors[1][:] = deltas\n",
    "\n",
    "# Store the polynomial functions\n",
    "Bernstein_polynomials = []\n",
    "for i, ds in enumerate(neb.distances):\n",
    "    Bernstein_polynomials.append(\n",
    "        si.BPoly.from_derivatives(\n",
    "            [neb.path_distances[i], neb.path_distances[i + 1]],\n",
    "            [[mx2[i], derivatives[i]],\n",
    "             [mx2[i + 1], derivatives[i + 1]]]\n",
    "        )\n",
    "    )"
   ]
  },
  {
   "cell_type": "code",
   "execution_count": 363,
   "metadata": {},
   "outputs": [
    {
     "data": {
      "text/plain": [
       "array([ 0.00000000e+00,  5.00001309e-01,  8.66026779e-01,  7.02868860e+00,\n",
       "        8.66023854e-01,  4.99988518e-01,  3.11910351e-06, -3.53536032e-01,\n",
       "       -4.99999498e-01, -3.53558088e-01,  1.71909917e-11,  3.53550286e-01,\n",
       "        4.99999901e-01,  3.53555795e-01,  0.00000000e+00])"
      ]
     },
     "execution_count": 363,
     "metadata": {},
     "output_type": "execute_result"
    }
   ],
   "source": [
    "derivatives"
   ]
  },
  {
   "cell_type": "code",
   "execution_count": 364,
   "metadata": {},
   "outputs": [],
   "source": [
    "x = np.linspace(0, neb.path_distances[-1], 200)\n",
    "y = np.zeros_like(x)\n",
    "\n",
    "for i, yi in enumerate(y):\n",
    "    \n",
    "    # ds = self.path_distances\n",
    "    if x[i] < 0.0 or x[i] > neb.path_distances[-1]:\n",
    "        raise Exception('x lies outside the valid interpolation range')\n",
    "    # Find index of the ds array for the value that is closest to x\n",
    "    ds_idx = np.abs(x[i] - ds).argmin()\n",
    "    # If x is smaller than the given ds, use the previous ds value so\n",
    "    # that we use ds(i) when x lies in the interval ds(i) < x < ds(i+1)\n",
    "    if x[i] < neb.path_distances[ds_idx]:\n",
    "        ds_idx -= 1\n",
    "\n",
    "    y[i] = Bernstein_polynomials[ds_idx](x[i])"
   ]
  },
  {
   "cell_type": "code",
   "execution_count": 366,
   "metadata": {},
   "outputs": [
    {
     "data": {
      "text/plain": [
       "(-1.1, 1.1)"
      ]
     },
     "execution_count": 366,
     "metadata": {},
     "output_type": "execute_result"
    },
    {
     "data": {
      "image/png": "[encoded data removed]",
      "text/plain": [
       "<matplotlib.figure.Figure at 0x7ff134c7dda0>"
      ]
     },
     "metadata": {},
     "output_type": "display_data"
    }
   ],
   "source": [
    "plt.figure(figsize=(8, 6))\n",
    "plt.plot(neb.path_distances, mx2, 'o-')\n",
    "plt.plot(x, y)\n",
    "\n",
    "plt.ylim([-1.1, 1.1])"
   ]
  },
  {
   "cell_type": "markdown",
   "metadata": {},
   "source": [
    "# Hermite polynomial"
   ]
  },
  {
   "cell_type": "markdown",
   "metadata": {},
   "source": [
    "As in the Spirit code https://github.com/spirit-code/spirit/"
   ]
  },
  {
   "cell_type": "code",
   "execution_count": 303,
   "metadata": {},
   "outputs": [],
   "source": [
    "i_factors = [np.zeros(neb.n_images) for i in range(2)]"
   ]
  },
  {
   "cell_type": "code",
   "execution_count": 304,
   "metadata": {},
   "outputs": [],
   "source": [
    "h00 = lambda x: 2 * x ** 3 - 3 * x ** 2 + 1\n",
    "h10 = lambda x: -2 * x ** 3 + 3 * x ** 2\n",
    "h01 = lambda x: x ** 3 - 2 * x ** 2 + x\n",
    "h11 = lambda x: x ** 3 - x ** 2"
   ]
  },
  {
   "cell_type": "code",
   "execution_count": 305,
   "metadata": {},
   "outputs": [],
   "source": [
    "i_factors[0][:] = mx0"
   ]
  },
  {
   "cell_type": "code",
   "execution_count": 306,
   "metadata": {},
   "outputs": [
    {
     "name": "stdout",
     "output_type": "stream",
     "text": [
      "0 0.0\n",
      "14 0.0\n"
     ]
    }
   ],
   "source": [
    "deltas = np.zeros(neb.n_images)\n",
    "for i in range(neb.n_images):\n",
    "    i_factors[1][i] = np.dot(neb.scale * (neb.gradientE).reshape(neb.n_images, -1)[i],\n",
    "                             neb.tangents.reshape(neb.n_images, -1)[i]\n",
    "                             )\n",
    "    den = neb.scale[0] * (neb.gradientE).reshape(neb.n_images, -1)[i][0]\n",
    "    if den != 0:\n",
    "        i_factors[1][i] = i_factors[1][i] / den\n",
    "    else:\n",
    "        print(i, i_factors[1][i])\n",
    "        i_factors[1][i] = 0\n",
    "        \n",
    "\n",
    "i_factors[1][:-1] *= neb.distances"
   ]
  },
  {
   "cell_type": "code",
   "execution_count": 313,
   "metadata": {},
   "outputs": [],
   "source": [
    "xs = []\n",
    "ys = []\n",
    "n_interp = 20\n",
    "\n",
    "ds = neb.path_distances\n",
    "for i, xi in enumerate(ds[:-1]):\n",
    "    \n",
    "    x0 = ds[i]\n",
    "    x1 = ds[i + 1]\n",
    "    dx = (x1 - x0) / n_interp\n",
    "    \n",
    "    for j in range(n_interp):\n",
    "        \n",
    "        x = x0 + j * dx\n",
    "        xrel = j / n_interp\n",
    "\n",
    "        # Find index of the ds array for the value that is closest to x\n",
    "        ds_idx = np.abs(x - ds).argmin()\n",
    "        # If x is smaller than the given ds, use the previous ds value so\n",
    "        # that we use ds(i) when x lies in the interval ds(i) < x < ds(i+1)\n",
    "        if x < neb.path_distances[ds_idx]:\n",
    "            ds_idx -= 1\n",
    "        \n",
    "        xs.append(x)\n",
    "        \n",
    "        y = (h00(xrel) * i_factors[0][ds_idx] +\n",
    "             h10(xrel) * i_factors[0][ds_idx + 1] +\n",
    "             h01(xrel) * i_factors[1][ds_idx] +\n",
    "             h11(xrel) * i_factors[1][ds_idx + 1]\n",
    "             )\n",
    "        \n",
    "        ys.append(y)"
   ]
  },
  {
   "cell_type": "code",
   "execution_count": 314,
   "metadata": {},
   "outputs": [
    {
     "data": {
      "text/plain": [
       "[<matplotlib.lines.Line2D at 0x7ff135330278>]"
      ]
     },
     "execution_count": 314,
     "metadata": {},
     "output_type": "execute_result"
    },
    {
     "data": {
      "image/png": "[encoded data removed]",
      "text/plain": [
       "<matplotlib.figure.Figure at 0x7ff134f26ac8>"
      ]
     },
     "metadata": {},
     "output_type": "display_data"
    }
   ],
   "source": [
    "plt.figure(figsize=(8, 6))\n",
    "\n",
    "plt.plot(neb.path_distances, mx0, 'o-')\n",
    "plt.plot(xs, ys)"
   ]
  },
  {
   "cell_type": "code",
   "execution_count": null,
   "metadata": {},
   "outputs": [],
   "source": []
  }
 ],
 "metadata": {
  "hide_input": false,
  "kernelspec": {
   "display_name": "Python 3",
   "language": "python",
   "name": "python3"
  },
  "language_info": {
   "codemirror_mode": {
    "name": "ipython",
    "version": 3
   },
   "file_extension": ".py",
   "mimetype": "text/x-python",
   "name": "python",
   "nbconvert_exporter": "python",
   "pygments_lexer": "ipython3",
   "version": "3.6.5"
  }
 },
 "nbformat": 4,
 "nbformat_minor": 2
}
