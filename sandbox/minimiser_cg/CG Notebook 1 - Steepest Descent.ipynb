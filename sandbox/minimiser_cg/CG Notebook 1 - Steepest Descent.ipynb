{
 "cells": [
  {
   "cell_type": "markdown",
   "metadata": {},
   "source": [
    "$ 3 x_1 + 2 x_2 = 2$\n",
    "\n",
    "$ 2 x_1 + 6 x_2 = -8$"
   ]
  },
  {
   "cell_type": "code",
   "execution_count": 18,
   "metadata": {},
   "outputs": [],
   "source": [
    "A = np.array([[3, 2],\n",
    "              [2, 6]])\n",
    "\n",
    "b = np.array([2, -8])"
   ]
  },
  {
   "cell_type": "code",
   "execution_count": 42,
   "metadata": {},
   "outputs": [
    {
     "name": "stdout",
     "output_type": "stream",
     "text": [
      "2.0 -2.0\n"
     ]
    }
   ],
   "source": [
    "x1 = 14/7\n",
    "x2 = -(3*14/7 - 2)/2\n",
    "print(x1, x2)\n",
    "x_exact = np.array([x1, x2])"
   ]
  },
  {
   "cell_type": "code",
   "execution_count": 43,
   "metadata": {},
   "outputs": [
    {
     "data": {
      "text/plain": [
       "array([ 2., -8.])"
      ]
     },
     "execution_count": 43,
     "metadata": {},
     "output_type": "execute_result"
    }
   ],
   "source": [
    "A.dot(x_exact)"
   ]
  },
  {
   "cell_type": "code",
   "execution_count": 36,
   "metadata": {},
   "outputs": [],
   "source": [
    "def quad_form(x, A, b, c):\n",
    "    \"\"\"\n",
    "    Quadratic Form\n",
    "    \"\"\"\n",
    "    return x.dot(A.dot(x)) - b.dot(x) + c\n",
    "    \n",
    "    "
   ]
  },
  {
   "cell_type": "code",
   "execution_count": 37,
   "metadata": {},
   "outputs": [
    {
     "data": {
      "text/plain": [
       "0.0"
      ]
     },
     "execution_count": 37,
     "metadata": {},
     "output_type": "execute_result"
    }
   ],
   "source": [
    "quad_form(x, A, b, 0)"
   ]
  },
  {
   "cell_type": "code",
   "execution_count": 38,
   "metadata": {},
   "outputs": [],
   "source": [
    "def deriv_quad_form(x, A, b):\n",
    "    0.5*A.dot(x) + 0.5*A.T.dot(x) - b"
   ]
  },
  {
   "cell_type": "code",
   "execution_count": 39,
   "metadata": {},
   "outputs": [],
   "source": [
    "def deriv_pos_def(x, A, b):\n",
    "    return b - A.dot(x)"
   ]
  },
  {
   "cell_type": "code",
   "execution_count": 93,
   "metadata": {},
   "outputs": [],
   "source": [
    "def sd_step(x, A, b):\n",
    "    r = deriv_pos_def(x, A, b)\n",
    "    alpha = r.dot(r) / r.dot(A.dot(r))\n",
    "    return x + r*alpha\n",
    "\n",
    "d = b - A.dot(x)\n",
    "def cg_step(d, x, A, b):\n",
    "    "
   ]
  },
  {
   "cell_type": "code",
   "execution_count": 94,
   "metadata": {},
   "outputs": [],
   "source": [
    "import matplotlib.pyplot as plt"
   ]
  },
  {
   "cell_type": "code",
   "execution_count": 101,
   "metadata": {},
   "outputs": [
    {
     "name": "stdout",
     "output_type": "stream",
     "text": [
      "[ 0.08       -0.61333333]\n",
      "[ 1.00444444 -2.        ]\n",
      "[ 1.52213333 -1.65487407]\n",
      "[ 1.75221728 -2.        ]\n",
      "[ 1.8810643  -1.91410199]\n",
      "[ 1.93832964 -2.        ]\n",
      "[ 1.97039822 -1.97862094]\n",
      "[ 1.98465093 -2.        ]\n",
      "[ 1.99263245 -1.99467899]\n",
      "[ 1.99617979 -2.        ]\n",
      "[ 1.9981663  -1.99867566]\n",
      "[ 1.99904919 -2.        ]\n",
      "[ 1.99954361 -1.99967039]\n",
      "[ 1.99976335 -2.        ]\n",
      "[ 1.99988641 -1.99991796]\n",
      "[ 1.9999411 -2.       ]\n",
      "[ 1.99997173 -1.99997958]\n",
      "[ 1.99998534 -2.        ]\n",
      "[ 1.99999296 -1.99999492]\n",
      "[ 1.99999635 -2.        ]\n",
      "[ 1.99999825 -1.99999874]\n",
      "[ 1.99999909 -2.        ]\n",
      "[ 1.99999956 -1.99999969]\n",
      "[ 1.99999977 -2.        ]\n",
      "[ 1.99999989 -1.99999992]\n",
      "[ 1.99999994 -2.        ]\n",
      "[ 1.99999997 -1.99999998]\n",
      "[ 1.99999999 -2.        ]\n",
      "[ 1.99999999 -2.        ]\n",
      "[ 2. -2.]\n",
      "[ 2. -2.]\n"
     ]
    },
    {
     "data": {
      "text/plain": [
       "[<matplotlib.lines.Line2D at 0x117622438>]"
      ]
     },
     "execution_count": 101,
     "metadata": {},
     "output_type": "execute_result"
    },
    {
     "data": {
      "image/png": "[encoded data removed]",
      "text/plain": [
       "<Figure size 432x288 with 1 Axes>"
      ]
     },
     "metadata": {},
     "output_type": "display_data"
    }
   ],
   "source": [
    "x0 = np.array([-2, 2])\n",
    "xprev = np.array([0, 0])\n",
    "xs = [x0]\n",
    "while np.linalg.norm(A.dot(x) - b) > 1e-8:\n",
    "    xprev = x\n",
    "    x = sd_step(xprev, A, b)\n",
    "    xs.append(x)\n",
    "    print(x)\n",
    "\n",
    "plt.xlim(-3, 3)\n",
    "plt.ylim(-3, 3)\n",
    "xs = np.array(xs)\n",
    "plt.plot(xs[:, 0], xs[:, 1])\n"
   ]
  },
  {
   "cell_type": "code",
   "execution_count": 114,
   "metadata": {},
   "outputs": [
    {
     "name": "stdout",
     "output_type": "stream",
     "text": [
      "[-2  2]\n",
      "0.204819277108\n",
      "[-1.18072289 -1.27710843]\n",
      "0.348739495798\n",
      "[ 2. -2.]\n"
     ]
    }
   ],
   "source": [
    "x = x0.copy()\n",
    "d = r = b - A.dot(x)\n",
    "xs = []\n",
    "\n",
    "def cg_step(x, r, d, A, b):\n",
    "    alpha = r.dot(r)/d.dot(A.dot(d))\n",
    "    print(alpha)\n",
    "    x = x + alpha*d\n",
    "    rold = r.copy()\n",
    "    r = rold - alpha * A.dot(d)\n",
    "    beta = r.dot(r) / rold.dot(rold)\n",
    "    d = (r + beta*d)\n",
    "    return x, r, d\n",
    "\n",
    "xs = [x]\n",
    "print(x)\n",
    "while np.linalg.norm(A.dot(x) - b) > 1e-8:\n",
    "    x, r, d = cg_step(x, r, d, A, b)\n",
    "    xs.append(x)\n",
    "    print(x)"
   ]
  },
  {
   "cell_type": "code",
   "execution_count": null,
   "metadata": {},
   "outputs": [],
   "source": []
  },
  {
   "cell_type": "code",
   "execution_count": null,
   "metadata": {},
   "outputs": [],
   "source": []
  }
 ],
 "metadata": {
  "kernelspec": {
   "display_name": "Python 3",
   "language": "python",
   "name": "python3"
  },
  "language_info": {
   "codemirror_mode": {
    "name": "ipython",
    "version": 3
   },
   "file_extension": ".py",
   "mimetype": "text/x-python",
   "name": "python",
   "nbconvert_exporter": "python",
   "pygments_lexer": "ipython3",
   "version": "3.6.3"
  }
 },
 "nbformat": 4,
 "nbformat_minor": 2
}
