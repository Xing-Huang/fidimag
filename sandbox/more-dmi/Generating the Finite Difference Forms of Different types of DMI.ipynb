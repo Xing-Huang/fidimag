{
 "cells": [
  {
   "cell_type": "markdown",
   "metadata": {},
   "source": [
    "# DMI Types - Symbolically Generating the Finite Difference Form"
   ]
  },
  {
   "cell_type": "markdown",
   "metadata": {},
   "source": [
    "In Fidimag, we have implemented the Dzyaloshinskii-Moriya interaction in such a way as to allow a user to specify any type of DMI they want.\n",
    "\n",
    "Here we provide a symbolic algebra approach to the generation of such systems, which reduces the amount of tedious maths that one needs to do to use a new DMI type. All one needs to know is the combination of Lifshitz Invariants that make up the energy functional. This is trivial to extend to DMI types which have more than one DMI parameter."
   ]
  },
  {
   "cell_type": "markdown",
   "metadata": {},
   "source": [
    "It is worth noting that there is some discrepancy in the literature about the signs of the DMI parameter; it may be that to be consistent with the literature you must make the mapping $D$ to $-D$ for a particular energy class."
   ]
  },
  {
   "cell_type": "code",
   "execution_count": 1,
   "metadata": {},
   "outputs": [],
   "source": [
    "import numpy as np\n",
    "import sympy as sp\n",
    "from sympy.abc import x, y, z, i, j, k\n",
    "from sympy import init_printing\n",
    "import sympy.vector\n",
    "from sympy.vector import Dot\n",
    "init_printing()\n",
    "N = sp.vector.CoordSys3D('N')"
   ]
  },
  {
   "cell_type": "code",
   "execution_count": 2,
   "metadata": {},
   "outputs": [],
   "source": [
    "Mx, My, Mz = sp.symbols('M_x M_y M_z', cls=sp.Function)\n",
    "D1, D2 = sp.symbols('D_1 D_2')\n",
    "dl = sp.Symbol('\\delta l')\n",
    "\n",
    "def cross(a, b):\n",
    "    return (a[1]*b[2] - a[2]*b[1],\n",
    "            a[2]*b[0] - a[0]*b[2],\n",
    "            a[0]*b[1] - a[1]*b[2])\n",
    "\n",
    "def LI(i, j, k):\n",
    "    \"\"\"\n",
    "    Symbolic representation of the Lifshitz Invariant\n",
    "    \n",
    "    $ L_{ij}^{(k)) $\n",
    "    \n",
    "    \"\"\"\n",
    "    Mi, Mj = sp.symbols(f'M_{str(i)} M_{str(j)}', cls=sp.Function)\n",
    "    \n",
    "    return Mi(x,y,z)*sp.diff(Mj(x, y, z), k) - Mj(x,y,z)*sp.diff(Mi(x,y,z), k)\n",
    "\n",
    "\n",
    "def VarDeriv(w):\n",
    "    Fx = sp.diff(w, Mx(x, y, z)) - sp.diff(sp.diff(w, sp.diff(Mx(x, y, z), x)), x) \\\n",
    "                                 - sp.diff(sp.diff(w, sp.diff(Mx(x, y, z), y)), y) \\\n",
    "                                 - sp.diff(sp.diff(w, sp.diff(Mx(x, y, z), z)), z)\n",
    "\n",
    "    Fy = sp.diff(w, My(x, y, z)) - sp.diff(sp.diff(w, sp.diff(My(x, y, z), x)), x) \\\n",
    "                                 - sp.diff(sp.diff(w, sp.diff(My(x, y, z), y)), y) \\\n",
    "                                 - sp.diff(sp.diff(w, sp.diff(My(x, y, z), z)), z)\n",
    "\n",
    "    Fz = sp.diff(w, Mz(x, y, z)) - sp.diff(sp.diff(w, sp.diff(Mz(x, y, z), x)), x) \\\n",
    "                                 - sp.diff(sp.diff(w, sp.diff(Mz(x, y, z), y)), y) \\\n",
    "                                 - sp.diff(sp.diff(w, sp.diff(Mz(x, y, z), z)), z)\n",
    "    \n",
    "    return sp.simplify(Fx)*N.x + sp.simplify(Fy)*N.y + sp.simplify(Fz)*N.z\n",
    "\n",
    "\n",
    "def discretised_form(field):\n",
    "    subs = {N.x:N.i, N.y:N.j, N.z:N.k}\n",
    "    disc = sp.as_finite_diff(field, 2*dl).expand()\n",
    "    xm =  sp.Add(*[argi for argi in disc.args if Mx(-dl + x, y, z) in argi.atoms(sp.Function)])\n",
    "    xm += sp.Add(*[argi for argi in disc.args if My(-dl + x, y, z) in argi.atoms(sp.Function)])\n",
    "    xm += sp.Add(*[argi for argi in disc.args if Mz(-dl + x, y, z) in argi.atoms(sp.Function)])\n",
    "    xp =  sp.Add(*[argi for argi in disc.args if Mx(x + dl, y, z) in argi.atoms(sp.Function)])\n",
    "    xp += sp.Add(*[argi for argi in disc.args if My(x + dl, y, z) in argi.atoms(sp.Function)])\n",
    "    xp += sp.Add(*[argi for argi in disc.args if Mz(x + dl, y, z) in argi.atoms(sp.Function)])\n",
    "    ym =  sp.Add(*[argi for argi in disc.args if Mx(x, y - dl, z) in argi.atoms(sp.Function)])\n",
    "    ym += sp.Add(*[argi for argi in disc.args if My(x, y - dl, z) in argi.atoms(sp.Function)])\n",
    "    ym += sp.Add(*[argi for argi in disc.args if Mz(x, y - dl, z) in argi.atoms(sp.Function)])\n",
    "    yp =  sp.Add(*[argi for argi in disc.args if Mx(x, y + dl, z) in argi.atoms(sp.Function)])\n",
    "    yp += sp.Add(*[argi for argi in disc.args if My(x, y + dl, z) in argi.atoms(sp.Function)])\n",
    "    yp += sp.Add(*[argi for argi in disc.args if Mz(x, y + dl, z) in argi.atoms(sp.Function)])\n",
    "    zm =  sp.Add(*[argi for argi in disc.args if Mx(x, y, z - dl) in argi.atoms(sp.Function)])\n",
    "    zm += sp.Add(*[argi for argi in disc.args if My(x, y, z - dl) in argi.atoms(sp.Function)])\n",
    "    zm += sp.Add(*[argi for argi in disc.args if Mz(x, y, z - dl) in argi.atoms(sp.Function)])\n",
    "    zp =  sp.Add(*[argi for argi in disc.args if Mx(x, y, z + dl) in argi.atoms(sp.Function)])\n",
    "    zp += sp.Add(*[argi for argi in disc.args if My(x, y, z + dl) in argi.atoms(sp.Function)])\n",
    "    zp += sp.Add(*[argi for argi in disc.args if Mz(x, y, z + dl) in argi.atoms(sp.Function)])\n",
    "    return xm.subs(subs), xp.subs(subs), ym.subs(subs), yp.subs(subs), zm.subs(subs), zp.subs(subs)\n",
    "\n",
    "def discretised_form_to_vector_1D(dform):\n",
    "    total_list = []\n",
    "\n",
    "    for coord in dform:\n",
    "        all_symbols = list(coord.free_symbols)\n",
    "        if N.i not in all_symbols and \\\n",
    "           N.j not in all_symbols and \\\n",
    "           N.k not in all_symbols:\n",
    "            total_list.append([0.0, 0, 0])\n",
    "        \n",
    "        elif N.i not in all_symbols:\n",
    "            jterm = coord.coeff(N.k, 0)\n",
    "            kterm = coord.coeff(N.j, 0)\n",
    "\n",
    "            val = list(jterm.as_coefficients_dict().values())[0]\n",
    "            if val == 1:\n",
    "                total_list.append([1., 0, 0])\n",
    "            else:\n",
    "                total_list.append([-1., 0, 0])       \n",
    "        elif N.j not in list(coord.free_symbols):\n",
    "            iterm = coord.coeff(N.k, 0)\n",
    "            kterm = coord.coeff(N.i, 0)\n",
    "\n",
    "            val = list(iterm.as_coefficients_dict().values())[0]\n",
    "            if val == -1:\n",
    "                total_list.append([0., 1, 0])\n",
    "            else:\n",
    "                total_list.append([0., -1, 0])       \n",
    "        else:\n",
    "            iterm = coord.coeff(N.j, 0)\n",
    "            jterm = coord.coeff(N.i, 0)\n",
    "            val = list(iterm.as_coefficients_dict().values())[0]\n",
    "            if val == 1:\n",
    "                total_list.append([0., 0, 1])\n",
    "            else:\n",
    "                total_list.append([0., 0, -1])\n",
    "\n",
    "    total_list = np.array(total_list).flatten()\n",
    "    return total_list\n",
    "\n",
    "def discretised_form_to_vector_2D(dform):\n",
    "    total_list = []\n",
    "    for D in [D1, D2]:\n",
    "        for coord in dform:\n",
    "            all_symbols = list(coord.coeff(D).free_symbols)\n",
    "            if N.i not in all_symbols and \\\n",
    "               N.j not in all_symbols and \\\n",
    "               N.k not in all_symbols:\n",
    "                total_list.append([0.0, 0, 0])\n",
    "\n",
    "            elif N.i not in all_symbols:\n",
    "                jterm = coord.coeff(N.k, 0)\n",
    "                kterm = coord.coeff(N.j, 0)\n",
    "\n",
    "                val = list(jterm.as_coefficients_dict().values())[0]\n",
    "                if val == 1:\n",
    "                    total_list.append([1., 0, 0])\n",
    "                else:\n",
    "                    total_list.append([-1., 0, 0])       \n",
    "            elif N.j not in list(coord.free_symbols):\n",
    "                iterm = coord.coeff(N.k, 0)\n",
    "                kterm = coord.coeff(N.i, 0)\n",
    "\n",
    "                val = list(iterm.as_coefficients_dict().values())[0]\n",
    "                if val == -1:\n",
    "                    total_list.append([0., 1, 0])\n",
    "                else:\n",
    "                    total_list.append([0., -1, 0])       \n",
    "            else:\n",
    "                iterm = coord.coeff(N.j, 0)\n",
    "                jterm = coord.coeff(N.i, 0)\n",
    "                val = list(iterm.as_coefficients_dict().values())[0]\n",
    "                if val == 1:\n",
    "                    total_list.append([0., 0, 1])\n",
    "                else:\n",
    "                    total_list.append([0., 0, -1])\n",
    "\n",
    "    total_list = np.array(total_list).flatten()\n",
    "    return total_list\n",
    "    "
   ]
  },
  {
   "cell_type": "markdown",
   "metadata": {},
   "source": [
    "# Crystal Class T"
   ]
  },
  {
   "cell_type": "code",
   "execution_count": 3,
   "metadata": {
    "scrolled": true
   },
   "outputs": [
    {
     "data": {
      "image/png": "[encoded data removed]",
      "text/latex": [
       "$$D_{1} \\left(\\operatorname{M_{x}}{\\left (x,y,z \\right )} \\frac{\\partial}{\\partial z} \\operatorname{M_{y}}{\\left (x,y,z \\right )} - \\operatorname{M_{x}}{\\left (x,y,z \\right )} \\frac{\\partial}{\\partial y} \\operatorname{M_{z}}{\\left (x,y,z \\right )} - \\operatorname{M_{y}}{\\left (x,y,z \\right )} \\frac{\\partial}{\\partial z} \\operatorname{M_{x}}{\\left (x,y,z \\right )} + \\operatorname{M_{y}}{\\left (x,y,z \\right )} \\frac{\\partial}{\\partial x} \\operatorname{M_{z}}{\\left (x,y,z \\right )} + \\operatorname{M_{z}}{\\left (x,y,z \\right )} \\frac{\\partial}{\\partial y} \\operatorname{M_{x}}{\\left (x,y,z \\right )} - \\operatorname{M_{z}}{\\left (x,y,z \\right )} \\frac{\\partial}{\\partial x} \\operatorname{M_{y}}{\\left (x,y,z \\right )}\\right)$$"
      ],
      "text/plain": [
       "   ⎛            ∂                              ∂                              \n",
       "D₁⋅⎜Mₓ(x, y, z)⋅──(M_y(x, y, z)) - Mₓ(x, y, z)⋅──(M_z(x, y, z)) - M_y(x, y, z)\n",
       "   ⎝            ∂z                             ∂y                             \n",
       "\n",
       " ∂                              ∂                               ∂             \n",
       "⋅──(Mₓ(x, y, z)) + M_y(x, y, z)⋅──(M_z(x, y, z)) + M_z(x, y, z)⋅──(Mₓ(x, y, z)\n",
       " ∂z                             ∂x                              ∂y            \n",
       "\n",
       "                 ∂               ⎞\n",
       ") - M_z(x, y, z)⋅──(M_y(x, y, z))⎟\n",
       "                 ∂x              ⎠"
      ]
     },
     "execution_count": 3,
     "metadata": {},
     "output_type": "execute_result"
    }
   ],
   "source": [
    "T = D1 * (LI(x, y, z) + LI(y, z, x) + LI(z, x, y))\n",
    "T"
   ]
  },
  {
   "cell_type": "code",
   "execution_count": 4,
   "metadata": {},
   "outputs": [
    {
     "data": {
      "image/png": "[encoded data removed]",
      "text/latex": [
       "$$2 \\mathbf{{x}_{N}} D_{1} \\left(\\frac{\\partial}{\\partial z} \\operatorname{M_{y}}{\\left (x,y,z \\right )} - \\frac{\\partial}{\\partial y} \\operatorname{M_{z}}{\\left (x,y,z \\right )}\\right) + 2 \\mathbf{{y}_{N}} D_{1} \\left(- \\frac{\\partial}{\\partial z} \\operatorname{M_{x}}{\\left (x,y,z \\right )} + \\frac{\\partial}{\\partial x} \\operatorname{M_{z}}{\\left (x,y,z \\right )}\\right) + 2 \\mathbf{{z}_{N}} D_{1} \\left(\\frac{\\partial}{\\partial y} \\operatorname{M_{x}}{\\left (x,y,z \\right )} - \\frac{\\partial}{\\partial x} \\operatorname{M_{y}}{\\left (x,y,z \\right )}\\right)$$"
      ],
      "text/plain": [
       "         ⎛∂                  ∂               ⎞            ⎛  ∂                \n",
       "2⋅N_x⋅D₁⋅⎜──(M_y(x, y, z)) - ──(M_z(x, y, z))⎟ + 2⋅N_y⋅D₁⋅⎜- ──(Mₓ(x, y, z)) +\n",
       "         ⎝∂z                 ∂y              ⎠            ⎝  ∂z               \n",
       "\n",
       " ∂               ⎞            ⎛∂                 ∂               ⎞\n",
       " ──(M_z(x, y, z))⎟ + 2⋅N_z⋅D₁⋅⎜──(Mₓ(x, y, z)) - ──(M_y(x, y, z))⎟\n",
       " ∂x              ⎠            ⎝∂y                ∂x              ⎠"
      ]
     },
     "execution_count": 4,
     "metadata": {},
     "output_type": "execute_result"
    }
   ],
   "source": [
    "F_T = VarDeriv(T)\n",
    "F_T"
   ]
  },
  {
   "cell_type": "code",
   "execution_count": 5,
   "metadata": {},
   "outputs": [
    {
     "name": "stderr",
     "output_type": "stream",
     "text": [
      "/usr/local/lib/python3.7/site-packages/sympy/core/decorators.py:38: SymPyDeprecationWarning: \n",
      "\n",
      "_as_finite_diff has been deprecated since SymPy 1.1. Use\n",
      "Derivative.as_finite_difference instead. See\n",
      "https://github.com/sympy/sympy/issues/11410 for more info.\n",
      "\n",
      "  _warn_deprecation(wrapped, 3)\n"
     ]
    }
   ],
   "source": [
    "xm, xp, ym, yp, zm, zp = discretised_form(F_T)\n",
    "dform = xm , xp, ym, yp, zm, zp"
   ]
  },
  {
   "cell_type": "code",
   "execution_count": 6,
   "metadata": {},
   "outputs": [
    {
     "data": {
      "text/plain": [
       "array([-1.,  0.,  0.,  1.,  0.,  0.,  0., -1.,  0.,  0.,  1.,  0.,  0.,\n",
       "        0., -1.,  0.,  0.,  1.])"
      ]
     },
     "execution_count": 6,
     "metadata": {},
     "output_type": "execute_result"
    }
   ],
   "source": [
    "discretised_form_to_vector_1D(dform)"
   ]
  },
  {
   "cell_type": "markdown",
   "metadata": {},
   "source": [
    "# Crystal Class C_nv"
   ]
  },
  {
   "cell_type": "code",
   "execution_count": 7,
   "metadata": {},
   "outputs": [
    {
     "data": {
      "image/png": "[encoded data removed]",
      "text/latex": [
       "$$D_{1} \\left(\\operatorname{M_{x}}{\\left (x,y,z \\right )} \\frac{\\partial}{\\partial x} \\operatorname{M_{z}}{\\left (x,y,z \\right )} + \\operatorname{M_{y}}{\\left (x,y,z \\right )} \\frac{\\partial}{\\partial y} \\operatorname{M_{z}}{\\left (x,y,z \\right )} - \\operatorname{M_{z}}{\\left (x,y,z \\right )} \\frac{\\partial}{\\partial x} \\operatorname{M_{x}}{\\left (x,y,z \\right )} - \\operatorname{M_{z}}{\\left (x,y,z \\right )} \\frac{\\partial}{\\partial y} \\operatorname{M_{y}}{\\left (x,y,z \\right )}\\right)$$"
      ],
      "text/plain": [
       "   ⎛            ∂                               ∂                             \n",
       "D₁⋅⎜Mₓ(x, y, z)⋅──(M_z(x, y, z)) + M_y(x, y, z)⋅──(M_z(x, y, z)) - M_z(x, y, z\n",
       "   ⎝            ∂x                              ∂y                            \n",
       "\n",
       "  ∂                              ∂               ⎞\n",
       ")⋅──(Mₓ(x, y, z)) - M_z(x, y, z)⋅──(M_y(x, y, z))⎟\n",
       "  ∂x                             ∂y              ⎠"
      ]
     },
     "execution_count": 7,
     "metadata": {},
     "output_type": "execute_result"
    }
   ],
   "source": [
    "C_nv = D1 * (LI(x, z, x) + LI(y, z, y))\n",
    "C_nv"
   ]
  },
  {
   "cell_type": "code",
   "execution_count": 8,
   "metadata": {},
   "outputs": [
    {
     "data": {
      "image/png": "[encoded data removed]",
      "text/latex": [
       "$$2 \\mathbf{{x}_{N}} D_{1} \\frac{\\partial}{\\partial x} \\operatorname{M_{z}}{\\left (x,y,z \\right )} + 2 \\mathbf{{y}_{N}} D_{1} \\frac{\\partial}{\\partial y} \\operatorname{M_{z}}{\\left (x,y,z \\right )} - 2 \\mathbf{{z}_{N}} D_{1} \\left(\\frac{\\partial}{\\partial x} \\operatorname{M_{x}}{\\left (x,y,z \\right )} + \\frac{\\partial}{\\partial y} \\operatorname{M_{y}}{\\left (x,y,z \\right )}\\right)$$"
      ],
      "text/plain": [
       "         ∂                           ∂                           ⎛∂           \n",
       "2⋅N_x⋅D₁⋅──(M_z(x, y, z)) + 2⋅N_y⋅D₁⋅──(M_z(x, y, z)) - 2⋅N_z⋅D₁⋅⎜──(Mₓ(x, y, \n",
       "         ∂x                          ∂y                          ⎝∂x          \n",
       "\n",
       "      ∂               ⎞\n",
       "z)) + ──(M_y(x, y, z))⎟\n",
       "      ∂y              ⎠"
      ]
     },
     "execution_count": 8,
     "metadata": {},
     "output_type": "execute_result"
    }
   ],
   "source": [
    "F_C_nv = VarDeriv(C_nv)\n",
    "F_C_nv"
   ]
  },
  {
   "cell_type": "code",
   "execution_count": 9,
   "metadata": {},
   "outputs": [
    {
     "name": "stderr",
     "output_type": "stream",
     "text": [
      "/usr/local/lib/python3.7/site-packages/sympy/core/decorators.py:38: SymPyDeprecationWarning: \n",
      "\n",
      "_as_finite_diff has been deprecated since SymPy 1.1. Use\n",
      "Derivative.as_finite_difference instead. See\n",
      "https://github.com/sympy/sympy/issues/11410 for more info.\n",
      "\n",
      "  _warn_deprecation(wrapped, 3)\n"
     ]
    },
    {
     "data": {
      "image/png": "[encoded data removed]",
      "text/latex": [
       "$$\\left ( - \\frac{\\mathbf{\\hat{i}_{N}} D_{1} \\operatorname{M_{z}}{\\left (- \\delta l + x,y,z \\right )}}{\\delta l} + \\frac{\\mathbf{\\hat{k}_{N}} D_{1} \\operatorname{M_{x}}{\\left (- \\delta l + x,y,z \\right )}}{\\delta l}, \\quad \\frac{\\mathbf{\\hat{i}_{N}} D_{1} \\operatorname{M_{z}}{\\left (\\delta l + x,y,z \\right )}}{\\delta l} - \\frac{\\mathbf{\\hat{k}_{N}} D_{1} \\operatorname{M_{x}}{\\left (\\delta l + x,y,z \\right )}}{\\delta l}, \\quad - \\frac{\\mathbf{\\hat{j}_{N}} D_{1} \\operatorname{M_{z}}{\\left (x,- \\delta l + y,z \\right )}}{\\delta l} + \\frac{\\mathbf{\\hat{k}_{N}} D_{1} \\operatorname{M_{y}}{\\left (x,- \\delta l + y,z \\right )}}{\\delta l}, \\quad \\frac{\\mathbf{\\hat{j}_{N}} D_{1} \\operatorname{M_{z}}{\\left (x,\\delta l + y,z \\right )}}{\\delta l} - \\frac{\\mathbf{\\hat{k}_{N}} D_{1} \\operatorname{M_{y}}{\\left (x,\\delta l + y,z \\right )}}{\\delta l}, \\quad 0, \\quad 0\\right )$$"
      ],
      "text/plain": [
       "⎛  N_i⋅D₁⋅M_z(-\\delta l + x, y, z)   N_k⋅D₁⋅Mₓ(-\\delta l + x, y, z)  N_i⋅D₁⋅M_\n",
       "⎜- ─────────────────────────────── + ──────────────────────────────, ─────────\n",
       "⎝              \\delta l                         \\delta l                      \n",
       "\n",
       "z(\\delta l + x, y, z)   N_k⋅D₁⋅Mₓ(\\delta l + x, y, z)    N_j⋅D₁⋅M_z(x, -\\delta\n",
       "───────────────────── - ─────────────────────────────, - ─────────────────────\n",
       "  \\delta l                         \\delta l                          \\delta l \n",
       "\n",
       " l + y, z)   N_k⋅D₁⋅M_y(x, -\\delta l + y, z)  N_j⋅D₁⋅M_z(x, \\delta l + y, z)  \n",
       "────────── + ───────────────────────────────, ────────────────────────────── -\n",
       "                         \\delta l                        \\delta l             \n",
       "\n",
       " N_k⋅D₁⋅M_y(x, \\delta l + y, z)      ⎞\n",
       " ──────────────────────────────, 0, 0⎟\n",
       "            \\delta l                 ⎠"
      ]
     },
     "execution_count": 9,
     "metadata": {},
     "output_type": "execute_result"
    }
   ],
   "source": [
    "dform_C_nv = discretised_form(F_C_nv)\n",
    "dform_C_nv"
   ]
  },
  {
   "cell_type": "code",
   "execution_count": 10,
   "metadata": {},
   "outputs": [
    {
     "data": {
      "text/plain": [
       "array([ 0.,  1.,  0.,  0., -1.,  0., -1.,  0.,  0.,  1.,  0.,  0.,  0.,\n",
       "        0.,  0.,  0.,  0.,  0.])"
      ]
     },
     "execution_count": 10,
     "metadata": {},
     "output_type": "execute_result"
    }
   ],
   "source": [
    "discretised_form_to_vector_1D(dform_C_nv)"
   ]
  },
  {
   "cell_type": "markdown",
   "metadata": {},
   "source": [
    "# Crystal Class D_2d"
   ]
  },
  {
   "cell_type": "code",
   "execution_count": 11,
   "metadata": {},
   "outputs": [
    {
     "data": {
      "image/png": "[encoded data removed]",
      "text/latex": [
       "$$D_{1} \\left(\\operatorname{M_{x}}{\\left (x,y,z \\right )} \\frac{\\partial}{\\partial y} \\operatorname{M_{z}}{\\left (x,y,z \\right )} + \\operatorname{M_{y}}{\\left (x,y,z \\right )} \\frac{\\partial}{\\partial x} \\operatorname{M_{z}}{\\left (x,y,z \\right )} - \\operatorname{M_{z}}{\\left (x,y,z \\right )} \\frac{\\partial}{\\partial y} \\operatorname{M_{x}}{\\left (x,y,z \\right )} - \\operatorname{M_{z}}{\\left (x,y,z \\right )} \\frac{\\partial}{\\partial x} \\operatorname{M_{y}}{\\left (x,y,z \\right )}\\right)$$"
      ],
      "text/plain": [
       "   ⎛            ∂                               ∂                             \n",
       "D₁⋅⎜Mₓ(x, y, z)⋅──(M_z(x, y, z)) + M_y(x, y, z)⋅──(M_z(x, y, z)) - M_z(x, y, z\n",
       "   ⎝            ∂y                              ∂x                            \n",
       "\n",
       "  ∂                              ∂               ⎞\n",
       ")⋅──(Mₓ(x, y, z)) - M_z(x, y, z)⋅──(M_y(x, y, z))⎟\n",
       "  ∂y                             ∂x              ⎠"
      ]
     },
     "execution_count": 11,
     "metadata": {},
     "output_type": "execute_result"
    }
   ],
   "source": [
    "D_2d = D1 * (LI(y, z, x) + LI(x, z, y))\n",
    "D_2d"
   ]
  },
  {
   "cell_type": "code",
   "execution_count": 12,
   "metadata": {},
   "outputs": [
    {
     "data": {
      "image/png": "[encoded data removed]",
      "text/latex": [
       "$$2 \\mathbf{{x}_{N}} D_{1} \\frac{\\partial}{\\partial y} \\operatorname{M_{z}}{\\left (x,y,z \\right )} + 2 \\mathbf{{y}_{N}} D_{1} \\frac{\\partial}{\\partial x} \\operatorname{M_{z}}{\\left (x,y,z \\right )} - 2 \\mathbf{{z}_{N}} D_{1} \\left(\\frac{\\partial}{\\partial y} \\operatorname{M_{x}}{\\left (x,y,z \\right )} + \\frac{\\partial}{\\partial x} \\operatorname{M_{y}}{\\left (x,y,z \\right )}\\right)$$"
      ],
      "text/plain": [
       "         ∂                           ∂                           ⎛∂           \n",
       "2⋅N_x⋅D₁⋅──(M_z(x, y, z)) + 2⋅N_y⋅D₁⋅──(M_z(x, y, z)) - 2⋅N_z⋅D₁⋅⎜──(Mₓ(x, y, \n",
       "         ∂y                          ∂x                          ⎝∂y          \n",
       "\n",
       "      ∂               ⎞\n",
       "z)) + ──(M_y(x, y, z))⎟\n",
       "      ∂x              ⎠"
      ]
     },
     "execution_count": 12,
     "metadata": {},
     "output_type": "execute_result"
    }
   ],
   "source": [
    "F_D_2d = VarDeriv(D_2d)\n",
    "F_D_2d"
   ]
  },
  {
   "cell_type": "code",
   "execution_count": 13,
   "metadata": {},
   "outputs": [
    {
     "name": "stderr",
     "output_type": "stream",
     "text": [
      "/usr/local/lib/python3.7/site-packages/sympy/core/decorators.py:38: SymPyDeprecationWarning: \n",
      "\n",
      "_as_finite_diff has been deprecated since SymPy 1.1. Use\n",
      "Derivative.as_finite_difference instead. See\n",
      "https://github.com/sympy/sympy/issues/11410 for more info.\n",
      "\n",
      "  _warn_deprecation(wrapped, 3)\n"
     ]
    },
    {
     "data": {
      "image/png": "[encoded data removed]",
      "text/latex": [
       "$$\\left ( - \\frac{\\mathbf{\\hat{j}_{N}} D_{1} \\operatorname{M_{z}}{\\left (- \\delta l + x,y,z \\right )}}{\\delta l} + \\frac{\\mathbf{\\hat{k}_{N}} D_{1} \\operatorname{M_{y}}{\\left (- \\delta l + x,y,z \\right )}}{\\delta l}, \\quad \\frac{\\mathbf{\\hat{j}_{N}} D_{1} \\operatorname{M_{z}}{\\left (\\delta l + x,y,z \\right )}}{\\delta l} - \\frac{\\mathbf{\\hat{k}_{N}} D_{1} \\operatorname{M_{y}}{\\left (\\delta l + x,y,z \\right )}}{\\delta l}, \\quad \\frac{\\mathbf{\\hat{i}_{N}} D_{1} \\operatorname{M_{z}}{\\left (x,- \\delta l + y,z \\right )}}{\\delta l} - \\frac{\\mathbf{\\hat{k}_{N}} D_{1} \\operatorname{M_{x}}{\\left (x,- \\delta l + y,z \\right )}}{\\delta l}, \\quad - \\frac{\\mathbf{\\hat{i}_{N}} D_{1} \\operatorname{M_{z}}{\\left (x,\\delta l + y,z \\right )}}{\\delta l} + \\frac{\\mathbf{\\hat{k}_{N}} D_{1} \\operatorname{M_{x}}{\\left (x,\\delta l + y,z \\right )}}{\\delta l}, \\quad - \\frac{\\mathbf{\\hat{i}_{N}} D_{1} \\operatorname{M_{y}}{\\left (x,y,- \\delta l + z \\right )}}{\\delta l} + \\frac{\\mathbf{\\hat{j}_{N}} D_{1} \\operatorname{M_{x}}{\\left (x,y,- \\delta l + z \\right )}}{\\delta l}, \\quad \\frac{\\mathbf{\\hat{i}_{N}} D_{1} \\operatorname{M_{y}}{\\left (x,y,\\delta l + z \\right )}}{\\delta l} - \\frac{\\mathbf{\\hat{j}_{N}} D_{1} \\operatorname{M_{x}}{\\left (x,y,\\delta l + z \\right )}}{\\delta l}\\right )$$"
      ],
      "text/plain": [
       "⎛  N_j⋅D₁⋅M_z(-\\delta l + x, y, z)   N_k⋅D₁⋅M_y(-\\delta l + x, y, z)  N_j⋅D₁⋅M\n",
       "⎜- ─────────────────────────────── + ───────────────────────────────, ────────\n",
       "⎝              \\delta l                          \\delta l                     \n",
       "\n",
       "_z(\\delta l + x, y, z)   N_k⋅D₁⋅M_y(\\delta l + x, y, z)  N_i⋅D₁⋅M_z(x, -\\delta\n",
       "────────────────────── - ──────────────────────────────, ─────────────────────\n",
       "   \\delta l                         \\delta l                         \\delta l \n",
       "\n",
       " l + y, z)   N_k⋅D₁⋅Mₓ(x, -\\delta l + y, z)    N_i⋅D₁⋅M_z(x, \\delta l + y, z) \n",
       "────────── - ──────────────────────────────, - ────────────────────────────── \n",
       "                        \\delta l                          \\delta l            \n",
       "\n",
       "  N_k⋅D₁⋅Mₓ(x, \\delta l + y, z)    N_i⋅D₁⋅M_y(x, y, -\\delta l + z)   N_j⋅D₁⋅Mₓ\n",
       "+ ─────────────────────────────, - ─────────────────────────────── + ─────────\n",
       "             \\delta l                          \\delta l                       \n",
       "\n",
       "(x, y, -\\delta l + z)  N_i⋅D₁⋅M_y(x, y, \\delta l + z)   N_j⋅D₁⋅Mₓ(x, y, \\delta\n",
       "─────────────────────, ────────────────────────────── - ──────────────────────\n",
       "  \\delta l                        \\delta l                         \\delta l   \n",
       "\n",
       " l + z)⎞\n",
       "───────⎟\n",
       "       ⎠"
      ]
     },
     "execution_count": 13,
     "metadata": {},
     "output_type": "execute_result"
    }
   ],
   "source": [
    "dform_D_2d = discretised_form(F_D_2d)\n",
    "dform"
   ]
  },
  {
   "cell_type": "code",
   "execution_count": 14,
   "metadata": {},
   "outputs": [
    {
     "data": {
      "text/plain": [
       "array([-1.,  0.,  0.,  1.,  0.,  0.,  0.,  1.,  0.,  0., -1.,  0.,  0.,\n",
       "        0.,  0.,  0.,  0.,  0.])"
      ]
     },
     "execution_count": 14,
     "metadata": {},
     "output_type": "execute_result"
    }
   ],
   "source": [
    "discretised_form_to_vector_1D(dform_D_2d)"
   ]
  },
  {
   "cell_type": "markdown",
   "metadata": {},
   "source": [
    "# D_n"
   ]
  },
  {
   "cell_type": "markdown",
   "metadata": {},
   "source": [
    "See here for details:\n",
    "\n",
    "https://arxiv.org/pdf/1406.2177.pdf\n"
   ]
  },
  {
   "cell_type": "code",
   "execution_count": 15,
   "metadata": {},
   "outputs": [
    {
     "data": {
      "image/png": "[encoded data removed]",
      "text/latex": [
       "$$D_{1} \\left(\\operatorname{M_{x}}{\\left (x,y,z \\right )} \\frac{\\partial}{\\partial y} \\operatorname{M_{z}}{\\left (x,y,z \\right )} + \\operatorname{M_{y}}{\\left (x,y,z \\right )} \\frac{\\partial}{\\partial x} \\operatorname{M_{z}}{\\left (x,y,z \\right )} - \\operatorname{M_{z}}{\\left (x,y,z \\right )} \\frac{\\partial}{\\partial y} \\operatorname{M_{x}}{\\left (x,y,z \\right )} - \\operatorname{M_{z}}{\\left (x,y,z \\right )} \\frac{\\partial}{\\partial x} \\operatorname{M_{y}}{\\left (x,y,z \\right )}\\right) + D_{2} \\left(\\operatorname{M_{x}}{\\left (x,y,z \\right )} \\frac{\\partial}{\\partial z} \\operatorname{M_{y}}{\\left (x,y,z \\right )} - \\operatorname{M_{y}}{\\left (x,y,z \\right )} \\frac{\\partial}{\\partial z} \\operatorname{M_{x}}{\\left (x,y,z \\right )}\\right)$$"
      ],
      "text/plain": [
       "   ⎛            ∂                               ∂                             \n",
       "D₁⋅⎜Mₓ(x, y, z)⋅──(M_z(x, y, z)) + M_y(x, y, z)⋅──(M_z(x, y, z)) - M_z(x, y, z\n",
       "   ⎝            ∂y                              ∂x                            \n",
       "\n",
       "  ∂                              ∂               ⎞      ⎛            ∂        \n",
       ")⋅──(Mₓ(x, y, z)) - M_z(x, y, z)⋅──(M_y(x, y, z))⎟ + D₂⋅⎜Mₓ(x, y, z)⋅──(M_y(x,\n",
       "  ∂y                             ∂x              ⎠      ⎝            ∂z       \n",
       "\n",
       "                       ∂              ⎞\n",
       " y, z)) - M_y(x, y, z)⋅──(Mₓ(x, y, z))⎟\n",
       "                       ∂z             ⎠"
      ]
     },
     "execution_count": 15,
     "metadata": {},
     "output_type": "execute_result"
    }
   ],
   "source": [
    "D_n = D1 * (LI(x, z, y) + LI(y, z, x)) + D2*LI(x, y, z)\n",
    "D_n"
   ]
  },
  {
   "cell_type": "code",
   "execution_count": 16,
   "metadata": {},
   "outputs": [
    {
     "data": {
      "image/png": "[encoded data removed]",
      "text/latex": [
       "$$\\mathbf{{x}_{N}} \\left(2 D_{1} \\frac{\\partial}{\\partial y} \\operatorname{M_{z}}{\\left (x,y,z \\right )} + 2 D_{2} \\frac{\\partial}{\\partial z} \\operatorname{M_{y}}{\\left (x,y,z \\right )}\\right) + \\mathbf{{y}_{N}} \\left(2 D_{1} \\frac{\\partial}{\\partial x} \\operatorname{M_{z}}{\\left (x,y,z \\right )} - 2 D_{2} \\frac{\\partial}{\\partial z} \\operatorname{M_{x}}{\\left (x,y,z \\right )}\\right) - 2 \\mathbf{{z}_{N}} D_{1} \\left(\\frac{\\partial}{\\partial y} \\operatorname{M_{x}}{\\left (x,y,z \\right )} + \\frac{\\partial}{\\partial x} \\operatorname{M_{y}}{\\left (x,y,z \\right )}\\right)$$"
      ],
      "text/plain": [
       "    ⎛     ∂                       ∂               ⎞       ⎛     ∂             \n",
       "N_x⋅⎜2⋅D₁⋅──(M_z(x, y, z)) + 2⋅D₂⋅──(M_y(x, y, z))⎟ + N_y⋅⎜2⋅D₁⋅──(M_z(x, y, z\n",
       "    ⎝     ∂y                      ∂z              ⎠       ⎝     ∂x            \n",
       "\n",
       "          ∂              ⎞            ⎛∂                 ∂               ⎞\n",
       ")) - 2⋅D₂⋅──(Mₓ(x, y, z))⎟ - 2⋅N_z⋅D₁⋅⎜──(Mₓ(x, y, z)) + ──(M_y(x, y, z))⎟\n",
       "          ∂z             ⎠            ⎝∂y                ∂x              ⎠"
      ]
     },
     "execution_count": 16,
     "metadata": {},
     "output_type": "execute_result"
    }
   ],
   "source": [
    "F_D_n = VarDeriv(D_n)\n",
    "F_D_n"
   ]
  },
  {
   "cell_type": "code",
   "execution_count": 17,
   "metadata": {},
   "outputs": [
    {
     "name": "stderr",
     "output_type": "stream",
     "text": [
      "/usr/local/lib/python3.7/site-packages/sympy/core/decorators.py:38: SymPyDeprecationWarning: \n",
      "\n",
      "_as_finite_diff has been deprecated since SymPy 1.1. Use\n",
      "Derivative.as_finite_difference instead. See\n",
      "https://github.com/sympy/sympy/issues/11410 for more info.\n",
      "\n",
      "  _warn_deprecation(wrapped, 3)\n"
     ]
    },
    {
     "data": {
      "image/png": "[encoded data removed]",
      "text/latex": [
       "$$\\left ( - \\frac{\\mathbf{\\hat{j}_{N}} D_{1} \\operatorname{M_{z}}{\\left (- \\delta l + x,y,z \\right )}}{\\delta l} + \\frac{\\mathbf{\\hat{k}_{N}} D_{1} \\operatorname{M_{y}}{\\left (- \\delta l + x,y,z \\right )}}{\\delta l}, \\quad \\frac{\\mathbf{\\hat{j}_{N}} D_{1} \\operatorname{M_{z}}{\\left (\\delta l + x,y,z \\right )}}{\\delta l} - \\frac{\\mathbf{\\hat{k}_{N}} D_{1} \\operatorname{M_{y}}{\\left (\\delta l + x,y,z \\right )}}{\\delta l}, \\quad - \\frac{\\mathbf{\\hat{i}_{N}} D_{1} \\operatorname{M_{z}}{\\left (x,- \\delta l + y,z \\right )}}{\\delta l} + \\frac{\\mathbf{\\hat{k}_{N}} D_{1} \\operatorname{M_{x}}{\\left (x,- \\delta l + y,z \\right )}}{\\delta l}, \\quad \\frac{\\mathbf{\\hat{i}_{N}} D_{1} \\operatorname{M_{z}}{\\left (x,\\delta l + y,z \\right )}}{\\delta l} - \\frac{\\mathbf{\\hat{k}_{N}} D_{1} \\operatorname{M_{x}}{\\left (x,\\delta l + y,z \\right )}}{\\delta l}, \\quad - \\frac{\\mathbf{\\hat{i}_{N}} D_{2} \\operatorname{M_{y}}{\\left (x,y,- \\delta l + z \\right )}}{\\delta l} + \\frac{\\mathbf{\\hat{j}_{N}} D_{2} \\operatorname{M_{x}}{\\left (x,y,- \\delta l + z \\right )}}{\\delta l}, \\quad \\frac{\\mathbf{\\hat{i}_{N}} D_{2} \\operatorname{M_{y}}{\\left (x,y,\\delta l + z \\right )}}{\\delta l} - \\frac{\\mathbf{\\hat{j}_{N}} D_{2} \\operatorname{M_{x}}{\\left (x,y,\\delta l + z \\right )}}{\\delta l}\\right )$$"
      ],
      "text/plain": [
       "⎛  N_j⋅D₁⋅M_z(-\\delta l + x, y, z)   N_k⋅D₁⋅M_y(-\\delta l + x, y, z)  N_j⋅D₁⋅M\n",
       "⎜- ─────────────────────────────── + ───────────────────────────────, ────────\n",
       "⎝              \\delta l                          \\delta l                     \n",
       "\n",
       "_z(\\delta l + x, y, z)   N_k⋅D₁⋅M_y(\\delta l + x, y, z)    N_i⋅D₁⋅M_z(x, -\\del\n",
       "────────────────────── - ──────────────────────────────, - ───────────────────\n",
       "   \\delta l                         \\delta l                           \\delta \n",
       "\n",
       "ta l + y, z)   N_k⋅D₁⋅Mₓ(x, -\\delta l + y, z)  N_i⋅D₁⋅M_z(x, \\delta l + y, z) \n",
       "──────────── + ──────────────────────────────, ────────────────────────────── \n",
       "l                         \\delta l                        \\delta l            \n",
       "\n",
       "  N_k⋅D₁⋅Mₓ(x, \\delta l + y, z)    N_i⋅D₂⋅M_y(x, y, -\\delta l + z)   N_j⋅D₂⋅Mₓ\n",
       "- ─────────────────────────────, - ─────────────────────────────── + ─────────\n",
       "             \\delta l                          \\delta l                       \n",
       "\n",
       "(x, y, -\\delta l + z)  N_i⋅D₂⋅M_y(x, y, \\delta l + z)   N_j⋅D₂⋅Mₓ(x, y, \\delta\n",
       "─────────────────────, ────────────────────────────── - ──────────────────────\n",
       "  \\delta l                        \\delta l                         \\delta l   \n",
       "\n",
       " l + z)⎞\n",
       "───────⎟\n",
       "       ⎠"
      ]
     },
     "execution_count": 17,
     "metadata": {},
     "output_type": "execute_result"
    }
   ],
   "source": [
    "dform_D_n = discretised_form(F_D_n)\n",
    "dform_D_n"
   ]
  },
  {
   "cell_type": "code",
   "execution_count": 18,
   "metadata": {},
   "outputs": [
    {
     "data": {
      "text/plain": [
       "array([-1.,  0.,  0.,  1.,  0.,  0.,  0.,  1.,  0.,  0., -1.,  0.,  0.,\n",
       "        0.,  0.,  0.,  0.,  0.,  0.,  0.,  0.,  0.,  0.,  0.,  0.,  0.,\n",
       "        0.,  0.,  0.,  0.,  0.,  0., -1.,  0.,  0.,  1.])"
      ]
     },
     "execution_count": 18,
     "metadata": {},
     "output_type": "execute_result"
    }
   ],
   "source": [
    "discretised_form_to_vector_2D(dform_D_n)"
   ]
  },
  {
   "cell_type": "markdown",
   "metadata": {},
   "source": [
    "# C_n"
   ]
  },
  {
   "cell_type": "code",
   "execution_count": 19,
   "metadata": {},
   "outputs": [
    {
     "data": {
      "image/png": "[encoded data removed]",
      "text/latex": [
       "$$D_{1} \\left(\\operatorname{M_{x}}{\\left (x,y,z \\right )} \\frac{\\partial}{\\partial x} \\operatorname{M_{z}}{\\left (x,y,z \\right )} + \\operatorname{M_{y}}{\\left (x,y,z \\right )} \\frac{\\partial}{\\partial y} \\operatorname{M_{z}}{\\left (x,y,z \\right )} - \\operatorname{M_{z}}{\\left (x,y,z \\right )} \\frac{\\partial}{\\partial x} \\operatorname{M_{x}}{\\left (x,y,z \\right )} - \\operatorname{M_{z}}{\\left (x,y,z \\right )} \\frac{\\partial}{\\partial y} \\operatorname{M_{y}}{\\left (x,y,z \\right )}\\right) + D_{2} \\left(- \\operatorname{M_{x}}{\\left (x,y,z \\right )} \\frac{\\partial}{\\partial y} \\operatorname{M_{z}}{\\left (x,y,z \\right )} + \\operatorname{M_{y}}{\\left (x,y,z \\right )} \\frac{\\partial}{\\partial x} \\operatorname{M_{z}}{\\left (x,y,z \\right )} + \\operatorname{M_{z}}{\\left (x,y,z \\right )} \\frac{\\partial}{\\partial y} \\operatorname{M_{x}}{\\left (x,y,z \\right )} - \\operatorname{M_{z}}{\\left (x,y,z \\right )} \\frac{\\partial}{\\partial x} \\operatorname{M_{y}}{\\left (x,y,z \\right )}\\right)$$"
      ],
      "text/plain": [
       "   ⎛            ∂                               ∂                             \n",
       "D₁⋅⎜Mₓ(x, y, z)⋅──(M_z(x, y, z)) + M_y(x, y, z)⋅──(M_z(x, y, z)) - M_z(x, y, z\n",
       "   ⎝            ∂x                              ∂y                            \n",
       "\n",
       "  ∂                              ∂               ⎞      ⎛              ∂      \n",
       ")⋅──(Mₓ(x, y, z)) - M_z(x, y, z)⋅──(M_y(x, y, z))⎟ + D₂⋅⎜- Mₓ(x, y, z)⋅──(M_z(\n",
       "  ∂x                             ∂y              ⎠      ⎝              ∂y     \n",
       "\n",
       "                         ∂                               ∂                    \n",
       "x, y, z)) + M_y(x, y, z)⋅──(M_z(x, y, z)) + M_z(x, y, z)⋅──(Mₓ(x, y, z)) - M_z\n",
       "                         ∂x                              ∂y                   \n",
       "\n",
       "          ∂               ⎞\n",
       "(x, y, z)⋅──(M_y(x, y, z))⎟\n",
       "          ∂x              ⎠"
      ]
     },
     "execution_count": 19,
     "metadata": {},
     "output_type": "execute_result"
    }
   ],
   "source": [
    "C_n = D1 * (LI(y, z, y) + LI(x, z, x)) + D2 * (LI(y, z, x) - LI(x, z, y))\n",
    "C_n"
   ]
  },
  {
   "cell_type": "code",
   "execution_count": 20,
   "metadata": {},
   "outputs": [
    {
     "data": {
      "image/png": "[encoded data removed]",
      "text/latex": [
       "$$\\mathbf{{x}_{N}} \\left(2 D_{1} \\frac{\\partial}{\\partial x} \\operatorname{M_{z}}{\\left (x,y,z \\right )} - 2 D_{2} \\frac{\\partial}{\\partial y} \\operatorname{M_{z}}{\\left (x,y,z \\right )}\\right) + \\mathbf{{y}_{N}} \\left(2 D_{1} \\frac{\\partial}{\\partial y} \\operatorname{M_{z}}{\\left (x,y,z \\right )} + 2 D_{2} \\frac{\\partial}{\\partial x} \\operatorname{M_{z}}{\\left (x,y,z \\right )}\\right) + \\mathbf{{z}_{N}} \\left(- 2 D_{1} \\frac{\\partial}{\\partial x} \\operatorname{M_{x}}{\\left (x,y,z \\right )} - 2 D_{1} \\frac{\\partial}{\\partial y} \\operatorname{M_{y}}{\\left (x,y,z \\right )} + 2 D_{2} \\frac{\\partial}{\\partial y} \\operatorname{M_{x}}{\\left (x,y,z \\right )} - 2 D_{2} \\frac{\\partial}{\\partial x} \\operatorname{M_{y}}{\\left (x,y,z \\right )}\\right)$$"
      ],
      "text/plain": [
       "    ⎛     ∂                       ∂               ⎞       ⎛     ∂             \n",
       "N_x⋅⎜2⋅D₁⋅──(M_z(x, y, z)) - 2⋅D₂⋅──(M_z(x, y, z))⎟ + N_y⋅⎜2⋅D₁⋅──(M_z(x, y, z\n",
       "    ⎝     ∂x                      ∂y              ⎠       ⎝     ∂y            \n",
       "\n",
       "          ∂               ⎞       ⎛       ∂                      ∂            \n",
       ")) + 2⋅D₂⋅──(M_z(x, y, z))⎟ + N_z⋅⎜- 2⋅D₁⋅──(Mₓ(x, y, z)) - 2⋅D₁⋅──(M_y(x, y, \n",
       "          ∂x              ⎠       ⎝       ∂x                     ∂y           \n",
       "\n",
       "           ∂                      ∂               ⎞\n",
       "z)) + 2⋅D₂⋅──(Mₓ(x, y, z)) - 2⋅D₂⋅──(M_y(x, y, z))⎟\n",
       "           ∂y                     ∂x              ⎠"
      ]
     },
     "execution_count": 20,
     "metadata": {},
     "output_type": "execute_result"
    }
   ],
   "source": [
    "F_C_n = VarDeriv(C_n)\n",
    "F_C_n"
   ]
  },
  {
   "cell_type": "code",
   "execution_count": 21,
   "metadata": {},
   "outputs": [
    {
     "name": "stderr",
     "output_type": "stream",
     "text": [
      "/usr/local/lib/python3.7/site-packages/sympy/core/decorators.py:38: SymPyDeprecationWarning: \n",
      "\n",
      "_as_finite_diff has been deprecated since SymPy 1.1. Use\n",
      "Derivative.as_finite_difference instead. See\n",
      "https://github.com/sympy/sympy/issues/11410 for more info.\n",
      "\n",
      "  _warn_deprecation(wrapped, 3)\n"
     ]
    },
    {
     "data": {
      "text/plain": [
       "array([ 0.,  0.,  1.,  0.,  0.,  1.,  1.,  0.,  0.,  1.,  0.,  0.,  0.,\n",
       "        0.,  0.,  0.,  0.,  0., -1.,  0.,  0.,  1.,  0.,  0.,  0.,  0.,\n",
       "        1.,  0.,  0.,  1.,  0.,  0.,  0.,  0.,  0.,  0.])"
      ]
     },
     "execution_count": 21,
     "metadata": {},
     "output_type": "execute_result"
    }
   ],
   "source": [
    "dform_C_n = discretised_form(F_C_n)\n",
    "discretised_form_to_vector_2D(dform_C_n)"
   ]
  }
 ],
 "metadata": {
  "kernelspec": {
   "display_name": "Python 3",
   "language": "python",
   "name": "python3"
  },
  "language_info": {
   "codemirror_mode": {
    "name": "ipython",
    "version": 3
   },
   "file_extension": ".py",
   "mimetype": "text/x-python",
   "name": "python",
   "nbconvert_exporter": "python",
   "pygments_lexer": "ipython3",
   "version": "3.7.2"
  }
 },
 "nbformat": 4,
 "nbformat_minor": 2
}
